{
 "cells": [
  {
   "cell_type": "code",
   "execution_count": 27,
   "id": "85de23f4-4c03-4df0-bf94-38a068ba7aa7",
   "metadata": {},
   "outputs": [],
   "source": [
    "#Importacion de Librerias\n",
    "\n",
    "import pandas as pd\n",
    "import numpy as np\n",
    "import matplotlib as mpl\n",
    "import matplotlib.pyplot as plt\n",
    "import seaborn as sns\n",
    "import os\n",
    "from sklearn.impute import SimpleImputer\n",
    "import matplotlib.ticker as ticker\n",
    "from sklearn.preprocessing import OrdinalEncoder\n",
    "\n",
    "# Librerías para arboles de decision \n",
    "from sklearn.tree import DecisionTreeClassifier\n",
    "from sklearn import tree\n",
    "from sklearn.tree import DecisionTreeClassifier, plot_tree\n",
    "# Librerias para regresión logística\n",
    "import statsmodels.api as sm\n",
    "import statsmodels.formula.api as smf\n",
    "# Librería para PCA\n",
    "from sklearn.decomposition import PCA\n",
    "# Libreria para KMeans\n",
    "from sklearn.cluster import KMeans\n",
    "# Libreria para normalizar\n",
    "from sklearn.preprocessing import StandardScaler\n",
    "# Libreria para separar en train y test\n",
    "from sklearn.model_selection import train_test_split\n",
    "from sklearn.linear_model import LinearRegression\n",
    "from sklearn.metrics import mean_squared_error, r2_score\n",
    "# Librería para RandomForest\n",
    "from sklearn.ensemble import RandomForestClassifier, RandomForestRegressor\n",
    "# Librerías para métricas\n",
    "from sklearn.metrics import confusion_matrix, roc_curve, auc, accuracy_score, classification_report,recall_score, f1_score\n",
    "import scipy \n",
    "# Seteo para que no se muestre notación científica\n",
    "np.set_printoptions(suppress=True)"
   ]
  },
  {
   "cell_type": "code",
   "execution_count": 28,
   "id": "5d41bcaf-a0e3-48b6-9558-86df6db62cc3",
   "metadata": {},
   "outputs": [],
   "source": [
    "# Función para calcular métricas\n",
    "def CalculaMetricas(variable):\n",
    "    \n",
    "    # Elimino los vacíos\n",
    "    variable = variable[variable.isnull() == False]\n",
    "\n",
    "    media = variable.mean()\n",
    "    mediana = variable.median()\n",
    "    media_recortada = scipy.stats.trim_mean(variable,0.1)\n",
    "    varianza = variable.var()\n",
    "    desvio = variable.std()\n",
    "    primer_cuartil = variable.quantile(0.25)\n",
    "    tercer_cuartil = variable.quantile(0.75)\n",
    "    percentil_1 = variable.quantile(0.01)\n",
    "    percentil_99 = variable.quantile(0.99)\n",
    "    error_estandar = scipy.stats.sem(variable) \n",
    "    cv = scipy.stats.variation(variable)\n",
    "    asimetria = scipy.stats.skew(variable) \n",
    "    curtosis = scipy.stats.kurtosis(variable)    \n",
    "    \n",
    "    resultado = (\n",
    "        f'Medidas de Tendencia Central\\n'\n",
    "        f'Media: {round(media, 0)}\\n'\n",
    "        f'Media Recortada: {round(media_recortada, 0)}\\n'\n",
    "        f'Mediana: {round(mediana, 0)}\\n\\n'\n",
    "        f'Medidas de Localización\\n'\n",
    "        f'Primer Cuartil: {round(primer_cuartil, 0)}\\n'\n",
    "        f'Tercer Cuartil: {round(tercer_cuartil, 0)}\\n'\n",
    "        f'Percentil 1: {round(percentil_1, 0)}\\n'\n",
    "        f'Percentil 99: {round(percentil_99, 0)}\\n\\n'\n",
    "        f'Medidas de Dispersión Absolutas\\n'\n",
    "        f'Varianza: {round(varianza, 0)}\\n'\n",
    "        f'Desvío Estándar: {round(desvio, 0)}\\n'\n",
    "        f'Rango Intercuartílico: {round(tercer_cuartil - primer_cuartil, 0)}\\n'\n",
    "        f'Error Estándar: {round(error_estandar, 0)}\\n\\n'\n",
    "        f'Medidas de Dispersión Relativas\\n'\n",
    "        f'Coeficiente de Variación: {round(cv, 2)}\\n'\n",
    "        f'Desvío Intercuartílico: {round((tercer_cuartil - primer_cuartil) / (tercer_cuartil + primer_cuartil), 2)}\\n\\n'\n",
    "        f'Medidas de Asimetría y Curtosis\\n'\n",
    "        f'Coeficiente de Asimetría: {round(asimetria, 2)}\\n'\n",
    "        f'Coeficiente de Curtosis: {round(curtosis, 2)}'\n",
    "    )\n",
    "\n",
    "    print(resultado)"
   ]
  },
  {
   "cell_type": "code",
   "execution_count": 29,
   "id": "e8b5c33f-8b2f-4202-aa3c-b5f9e40340da",
   "metadata": {},
   "outputs": [
    {
     "name": "stdout",
     "output_type": "stream",
     "text": [
      "El archivo ha sido descargado y guardado exitosamente.\n"
     ]
    }
   ],
   "source": [
    "import requests\n",
    "url = 'https://github.com/Gersmol/Data-Science/blob/main/Amazon_Sales_Report.xlsx?raw=true'\n",
    "response = requests.get(url)\n",
    "\n",
    "\n",
    "if response.status_code == 200:\n",
    "    with open('Amazon_Sales_Report.xlsx', 'wb') as file:\n",
    "        file.write(response.content)\n",
    "    print(\"El archivo ha sido descargado y guardado exitosamente.\")\n",
    "else:\n",
    "    print(f\"Error al descargar el archivo. Código de estado HTTP: {response.status_code}\")\n"
   ]
  },
  {
   "cell_type": "code",
   "execution_count": 30,
   "id": "df8d0b4d-cdbe-4f34-a269-ee4c155ba1b0",
   "metadata": {},
   "outputs": [],
   "source": [
    "df = pd.read_excel('Amazon_Sales_Report.xlsx')"
   ]
  },
  {
   "cell_type": "code",
   "execution_count": 31,
   "id": "c0c4167d-7a2b-4d9f-931b-e39972e776d9",
   "metadata": {},
   "outputs": [
    {
     "data": {
      "text/html": [
       "<div>\n",
       "<style scoped>\n",
       "    .dataframe tbody tr th:only-of-type {\n",
       "        vertical-align: middle;\n",
       "    }\n",
       "\n",
       "    .dataframe tbody tr th {\n",
       "        vertical-align: top;\n",
       "    }\n",
       "\n",
       "    .dataframe thead th {\n",
       "        text-align: right;\n",
       "    }\n",
       "</style>\n",
       "<table border=\"1\" class=\"dataframe\">\n",
       "  <thead>\n",
       "    <tr style=\"text-align: right;\">\n",
       "      <th></th>\n",
       "      <th>index</th>\n",
       "      <th>Order ID</th>\n",
       "      <th>Date</th>\n",
       "      <th>Status</th>\n",
       "      <th>Fulfilment</th>\n",
       "      <th>ship-service-level</th>\n",
       "      <th>Style</th>\n",
       "      <th>SKU</th>\n",
       "      <th>Category</th>\n",
       "      <th>Size</th>\n",
       "      <th>...</th>\n",
       "      <th>Qty</th>\n",
       "      <th>currency</th>\n",
       "      <th>Amount</th>\n",
       "      <th>ship-city</th>\n",
       "      <th>ship-state</th>\n",
       "      <th>ship-postal-code</th>\n",
       "      <th>ship-country</th>\n",
       "      <th>promotion-ids</th>\n",
       "      <th>B2B</th>\n",
       "      <th>fulfilled-by</th>\n",
       "    </tr>\n",
       "  </thead>\n",
       "  <tbody>\n",
       "    <tr>\n",
       "      <th>0</th>\n",
       "      <td>0</td>\n",
       "      <td>405-8078784-5731545</td>\n",
       "      <td>04-30-22</td>\n",
       "      <td>Cancelled</td>\n",
       "      <td>Merchant</td>\n",
       "      <td>Standard</td>\n",
       "      <td>SET389</td>\n",
       "      <td>SET389-KR-NP-S</td>\n",
       "      <td>Set</td>\n",
       "      <td>S</td>\n",
       "      <td>...</td>\n",
       "      <td>0</td>\n",
       "      <td>INR</td>\n",
       "      <td>647.62</td>\n",
       "      <td>MUMBAI</td>\n",
       "      <td>MAHARASHTRA</td>\n",
       "      <td>400081.0</td>\n",
       "      <td>IN</td>\n",
       "      <td>NaN</td>\n",
       "      <td>False</td>\n",
       "      <td>Easy Ship</td>\n",
       "    </tr>\n",
       "    <tr>\n",
       "      <th>1</th>\n",
       "      <td>1</td>\n",
       "      <td>171-9198151-1101146</td>\n",
       "      <td>04-30-22</td>\n",
       "      <td>Shipped</td>\n",
       "      <td>Merchant</td>\n",
       "      <td>Standard</td>\n",
       "      <td>JNE3781</td>\n",
       "      <td>JNE3781-KR-XXXL</td>\n",
       "      <td>kurta</td>\n",
       "      <td>3XL</td>\n",
       "      <td>...</td>\n",
       "      <td>1</td>\n",
       "      <td>INR</td>\n",
       "      <td>406.00</td>\n",
       "      <td>BENGALURU</td>\n",
       "      <td>KARNATAKA</td>\n",
       "      <td>560085.0</td>\n",
       "      <td>IN</td>\n",
       "      <td>Amazon PLCC Free-Financing Universal Merchant ...</td>\n",
       "      <td>False</td>\n",
       "      <td>Easy Ship</td>\n",
       "    </tr>\n",
       "    <tr>\n",
       "      <th>2</th>\n",
       "      <td>2</td>\n",
       "      <td>404-0687676-7273146</td>\n",
       "      <td>04-30-22</td>\n",
       "      <td>Shipped</td>\n",
       "      <td>Amazon</td>\n",
       "      <td>Expedited</td>\n",
       "      <td>JNE3371</td>\n",
       "      <td>JNE3371-KR-XL</td>\n",
       "      <td>kurta</td>\n",
       "      <td>XL</td>\n",
       "      <td>...</td>\n",
       "      <td>1</td>\n",
       "      <td>INR</td>\n",
       "      <td>329.00</td>\n",
       "      <td>NAVI MUMBAI</td>\n",
       "      <td>MAHARASHTRA</td>\n",
       "      <td>410210.0</td>\n",
       "      <td>IN</td>\n",
       "      <td>IN Core Free Shipping 2015/04/08 23-48-5-108</td>\n",
       "      <td>True</td>\n",
       "      <td>NaN</td>\n",
       "    </tr>\n",
       "    <tr>\n",
       "      <th>3</th>\n",
       "      <td>3</td>\n",
       "      <td>403-9615377-8133951</td>\n",
       "      <td>04-30-22</td>\n",
       "      <td>Cancelled</td>\n",
       "      <td>Merchant</td>\n",
       "      <td>Standard</td>\n",
       "      <td>J0341</td>\n",
       "      <td>J0341-DR-L</td>\n",
       "      <td>Western Dress</td>\n",
       "      <td>L</td>\n",
       "      <td>...</td>\n",
       "      <td>0</td>\n",
       "      <td>INR</td>\n",
       "      <td>753.33</td>\n",
       "      <td>PUDUCHERRY</td>\n",
       "      <td>PUDUCHERRY</td>\n",
       "      <td>605008.0</td>\n",
       "      <td>IN</td>\n",
       "      <td>NaN</td>\n",
       "      <td>False</td>\n",
       "      <td>Easy Ship</td>\n",
       "    </tr>\n",
       "    <tr>\n",
       "      <th>4</th>\n",
       "      <td>4</td>\n",
       "      <td>407-1069790-7240320</td>\n",
       "      <td>04-30-22</td>\n",
       "      <td>Shipped</td>\n",
       "      <td>Amazon</td>\n",
       "      <td>Expedited</td>\n",
       "      <td>JNE3671</td>\n",
       "      <td>JNE3671-TU-XXXL</td>\n",
       "      <td>Top</td>\n",
       "      <td>3XL</td>\n",
       "      <td>...</td>\n",
       "      <td>1</td>\n",
       "      <td>INR</td>\n",
       "      <td>574.00</td>\n",
       "      <td>CHENNAI</td>\n",
       "      <td>TAMIL NADU</td>\n",
       "      <td>600073.0</td>\n",
       "      <td>IN</td>\n",
       "      <td>NaN</td>\n",
       "      <td>False</td>\n",
       "      <td>NaN</td>\n",
       "    </tr>\n",
       "  </tbody>\n",
       "</table>\n",
       "<p>5 rows × 22 columns</p>\n",
       "</div>"
      ],
      "text/plain": [
       "   index             Order ID      Date     Status Fulfilment  \\\n",
       "0      0  405-8078784-5731545  04-30-22  Cancelled   Merchant   \n",
       "1      1  171-9198151-1101146  04-30-22    Shipped   Merchant   \n",
       "2      2  404-0687676-7273146  04-30-22    Shipped     Amazon   \n",
       "3      3  403-9615377-8133951  04-30-22  Cancelled   Merchant   \n",
       "4      4  407-1069790-7240320  04-30-22    Shipped     Amazon   \n",
       "\n",
       "  ship-service-level    Style              SKU       Category Size  ... Qty  \\\n",
       "0           Standard   SET389   SET389-KR-NP-S            Set    S  ...   0   \n",
       "1           Standard  JNE3781  JNE3781-KR-XXXL          kurta  3XL  ...   1   \n",
       "2          Expedited  JNE3371    JNE3371-KR-XL          kurta   XL  ...   1   \n",
       "3           Standard    J0341       J0341-DR-L  Western Dress    L  ...   0   \n",
       "4          Expedited  JNE3671  JNE3671-TU-XXXL            Top  3XL  ...   1   \n",
       "\n",
       "  currency  Amount    ship-city   ship-state ship-postal-code ship-country  \\\n",
       "0      INR  647.62       MUMBAI  MAHARASHTRA         400081.0           IN   \n",
       "1      INR  406.00    BENGALURU    KARNATAKA         560085.0           IN   \n",
       "2      INR  329.00  NAVI MUMBAI  MAHARASHTRA         410210.0           IN   \n",
       "3      INR  753.33   PUDUCHERRY   PUDUCHERRY         605008.0           IN   \n",
       "4      INR  574.00      CHENNAI   TAMIL NADU         600073.0           IN   \n",
       "\n",
       "                                       promotion-ids    B2B fulfilled-by  \n",
       "0                                                NaN  False    Easy Ship  \n",
       "1  Amazon PLCC Free-Financing Universal Merchant ...  False    Easy Ship  \n",
       "2       IN Core Free Shipping 2015/04/08 23-48-5-108   True          NaN  \n",
       "3                                                NaN  False    Easy Ship  \n",
       "4                                                NaN  False          NaN  \n",
       "\n",
       "[5 rows x 22 columns]"
      ]
     },
     "execution_count": 31,
     "metadata": {},
     "output_type": "execute_result"
    }
   ],
   "source": [
    "df.head()"
   ]
  },
  {
   "cell_type": "code",
   "execution_count": 32,
   "id": "d2cf4a5b-dc6c-4813-a09e-88cb436b3434",
   "metadata": {},
   "outputs": [
    {
     "name": "stdout",
     "output_type": "stream",
     "text": [
      "<class 'pandas.core.frame.DataFrame'>\n",
      "RangeIndex: 128754 entries, 0 to 128753\n",
      "Data columns (total 22 columns):\n",
      " #   Column              Non-Null Count   Dtype  \n",
      "---  ------              --------------   -----  \n",
      " 0   index               128754 non-null  int64  \n",
      " 1   Order ID            128754 non-null  object \n",
      " 2   Date                128754 non-null  object \n",
      " 3   Status              128754 non-null  object \n",
      " 4   Fulfilment          128754 non-null  object \n",
      " 5   ship-service-level  128754 non-null  object \n",
      " 6   Style               128754 non-null  object \n",
      " 7   SKU                 128754 non-null  object \n",
      " 8   Category            128754 non-null  object \n",
      " 9   Size                128754 non-null  object \n",
      " 10  ASIN                128754 non-null  object \n",
      " 11  Courier Status      121887 non-null  object \n",
      " 12  Qty                 128754 non-null  int64  \n",
      " 13  currency            121083 non-null  object \n",
      " 14  Amount              121083 non-null  float64\n",
      " 15  ship-city           128721 non-null  object \n",
      " 16  ship-state          128714 non-null  object \n",
      " 17  ship-postal-code    128714 non-null  float64\n",
      " 18  ship-country        128714 non-null  object \n",
      " 19  promotion-ids       79735 non-null   object \n",
      " 20  B2B                 128747 non-null  object \n",
      " 21  fulfilled-by        39228 non-null   object \n",
      "dtypes: float64(2), int64(2), object(18)\n",
      "memory usage: 21.6+ MB\n"
     ]
    }
   ],
   "source": [
    "df.info()"
   ]
  },
  {
   "cell_type": "markdown",
   "id": "78c25d6b-18a5-4951-8839-75fac83ac406",
   "metadata": {},
   "source": [
    "**Comienzo con la limpieza de los datos**\r\n",
    "---"
   ]
  },
  {
   "cell_type": "code",
   "execution_count": 33,
   "id": "738d0c4f-1ee2-4e0c-a307-ee2cdcbd94de",
   "metadata": {},
   "outputs": [],
   "source": [
    "df['Courier Status'].fillna('No especificado', inplace=True)\n",
    "df['ship-city'].fillna('No especificado', inplace=True)\n",
    "df['ship-state'].fillna('No especificado', inplace=True)\n",
    "df['ship-postal-code'].fillna('No especificado', inplace=True)\n",
    "df['ship-country'].fillna('No especificado', inplace=True)\n",
    "df['promotion-ids'].fillna('No especificado', inplace=True)\n",
    "\n",
    "df.dropna(subset=['currency', 'Amount'], inplace=True)\n",
    "df = df[df['Amount'] != 0]\n",
    "\n",
    "valores_faltantes_columnas = [\"B2B\", \"fulfilled-by\"]\n",
    "datos_faltantes = df[valores_faltantes_columnas].isnull()\n",
    "\n",
    "imputer = SimpleImputer(strategy='most_frequent')\n",
    "\n",
    "df[valores_faltantes_columnas] = imputer.fit_transform(df[valores_faltantes_columnas])\n",
    "\n",
    "# Elimino los guiones de la columna 'Order ID'\n",
    "df['Order ID'] = df['Order ID'].str.replace('-', '')\n",
    "\n",
    "# Convierto la columna a tipo numérico\n",
    "df['Order ID'] = pd.to_numeric(df['Order ID'], errors='coerce')"
   ]
  },
  {
   "cell_type": "code",
   "execution_count": 34,
   "id": "5e333e37-bf1d-4841-b686-e09bdb295cca",
   "metadata": {},
   "outputs": [],
   "source": [
    "# Creo el codificador indicandole el orden de la variables\n",
    "encoder = OrdinalEncoder(categories=[[\"Set\", \"kurta\", \"Western Dress\", \"Top\", \"Ethnic Dress\", \"Blouse\", \"Bottom\", \"Saree\", \"Dupatta\"]])\n",
    "\n",
    "# Ajusto el codificador con la variable Fulfilment y la transformamos\n",
    "encoder.fit(df[[\"Category\"]])\n",
    "df[\"Categoria_encoded\"] = encoder.transform(df[[\"Category\"]])"
   ]
  },
  {
   "cell_type": "code",
   "execution_count": 35,
   "id": "58670114-2e4b-4354-8683-f828dd950cc7",
   "metadata": {},
   "outputs": [],
   "source": [
    "# Creo el codificador indicandole el orden de la variables\n",
    "encoder = OrdinalEncoder(categories=[[\"Amazon\", \"Merchant\"]])\n",
    "\n",
    "# Ajusto el codificador con la variable Fulfilment y la transformamos\n",
    "encoder.fit(df[[\"Fulfilment\"]])\n",
    "df[\"Seller_encoded\"] = encoder.transform(df[[\"Fulfilment\"]])"
   ]
  },
  {
   "cell_type": "code",
   "execution_count": 36,
   "id": "543458c9-6906-44ac-bb2f-32e284fa70e4",
   "metadata": {},
   "outputs": [
    {
     "data": {
      "text/plain": [
       "Category\n",
       "Set              45954\n",
       "kurta            45854\n",
       "Western Dress    14461\n",
       "Top               9988\n",
       "Ethnic Dress      1061\n",
       "Blouse             859\n",
       "Bottom             408\n",
       "Saree              152\n",
       "Dupatta              3\n",
       "Name: count, dtype: int64"
      ]
     },
     "execution_count": 36,
     "metadata": {},
     "output_type": "execute_result"
    }
   ],
   "source": [
    "df['Category'].unique()\n",
    "df['Category'].value_counts()"
   ]
  },
  {
   "cell_type": "code",
   "execution_count": 37,
   "id": "fdca2fec-2e45-4850-8c04-1daf633c5a8d",
   "metadata": {},
   "outputs": [
    {
     "data": {
      "text/plain": [
       "Fulfilment\n",
       "Amazon      82063\n",
       "Merchant    36677\n",
       "Name: count, dtype: int64"
      ]
     },
     "execution_count": 37,
     "metadata": {},
     "output_type": "execute_result"
    }
   ],
   "source": [
    "df['Fulfilment'].unique()\n",
    "df['Fulfilment'].value_counts()"
   ]
  },
  {
   "cell_type": "markdown",
   "id": "2bca7d56-c16b-4341-9048-be0e2c33585e",
   "metadata": {},
   "source": [
    "**ANALIZO LA DISTRIBUCIÓN DE LA VARIABLE TARGET**\n",
    "---"
   ]
  },
  {
   "cell_type": "code",
   "execution_count": 38,
   "id": "9c037806-9ce6-4505-8b08-25dea9a83fd0",
   "metadata": {},
   "outputs": [
    {
     "data": {
      "text/plain": [
       "Text(0.5, 1.0, 'Distribución de Amount')"
      ]
     },
     "execution_count": 38,
     "metadata": {},
     "output_type": "execute_result"
    },
    {
     "data": {
      "image/png": "[encoded data removed]",
      "text/plain": [
       "<Figure size 640x480 with 1 Axes>"
      ]
     },
     "metadata": {},
     "output_type": "display_data"
    }
   ],
   "source": [
    "# Distribución de variable Amount\n",
    "plt.figure()\n",
    "# Histograma\n",
    "sns.histplot(data = df,\n",
    "             x = 'Amount',\n",
    "             bins = 30,\n",
    "             alpha = 0.25,\n",
    "             kde = True,\n",
    "             stat='probability')\n",
    "plt.title('Distribución de Amount')"
   ]
  },
  {
   "cell_type": "code",
   "execution_count": 39,
   "id": "1cb5199a-71b1-4818-983d-e9bcfdcfad58",
   "metadata": {},
   "outputs": [
    {
     "name": "stdout",
     "output_type": "stream",
     "text": [
      "Medidas de Tendencia Central\n",
      "Media: 660.0\n",
      "Media Recortada: 631.0\n",
      "Mediana: 620.0\n",
      "\n",
      "Medidas de Localización\n",
      "Primer Cuartil: 458.0\n",
      "Tercer Cuartil: 788.0\n",
      "Percentil 1: 292.0\n",
      "Percentil 99: 1442.0\n",
      "\n",
      "Medidas de Dispersión Absolutas\n",
      "Varianza: 69916.0\n",
      "Desvío Estándar: 264.0\n",
      "Rango Intercuartílico: 330.0\n",
      "Error Estándar: 1.0\n",
      "\n",
      "Medidas de Dispersión Relativas\n",
      "Coeficiente de Variación: 0.4\n",
      "Desvío Intercuartílico: 0.26\n",
      "\n",
      "Medidas de Asimetría y Curtosis\n",
      "Coeficiente de Asimetría: 0.96\n",
      "Coeficiente de Curtosis: 0.63\n"
     ]
    }
   ],
   "source": [
    "# Métricas de la variable Amount\n",
    "CalculaMetricas(df['Amount'])"
   ]
  },
  {
   "cell_type": "markdown",
   "id": "9996fc65-c773-4aa0-beb9-74e6bea4fc3f",
   "metadata": {},
   "source": [
    "**SEPARO EL MODELO EN TEST Y TRAIN**\n",
    "---"
   ]
  },
  {
   "cell_type": "code",
   "execution_count": 40,
   "id": "fd0d6d31-0cbd-4ee9-a817-cb05a850b7be",
   "metadata": {},
   "outputs": [],
   "source": [
    "X = df[['Qty', 'Seller_encoded', 'Categoria_encoded']]\n",
    "y = df['Amount']"
   ]
  },
  {
   "cell_type": "code",
   "execution_count": 41,
   "id": "f9d5c503-af14-4eb2-b716-91c4c579894a",
   "metadata": {},
   "outputs": [],
   "source": [
    "X_train, X_test, y_train, y_test = train_test_split(X, y, test_size=0.2, random_state=42)"
   ]
  },
  {
   "cell_type": "code",
   "execution_count": 42,
   "id": "4f9b7ca7-cce6-46bd-8fba-eb6ac8042615",
   "metadata": {},
   "outputs": [
    {
     "data": {
      "text/html": [
       "<style>#sk-container-id-2 {color: black;}#sk-container-id-2 pre{padding: 0;}#sk-container-id-2 div.sk-toggleable {background-color: white;}#sk-container-id-2 label.sk-toggleable__label {cursor: pointer;display: block;width: 100%;margin-bottom: 0;padding: 0.3em;box-sizing: border-box;text-align: center;}#sk-container-id-2 label.sk-toggleable__label-arrow:before {content: \"▸\";float: left;margin-right: 0.25em;color: #696969;}#sk-container-id-2 label.sk-toggleable__label-arrow:hover:before {color: black;}#sk-container-id-2 div.sk-estimator:hover label.sk-toggleable__label-arrow:before {color: black;}#sk-container-id-2 div.sk-toggleable__content {max-height: 0;max-width: 0;overflow: hidden;text-align: left;background-color: #f0f8ff;}#sk-container-id-2 div.sk-toggleable__content pre {margin: 0.2em;color: black;border-radius: 0.25em;background-color: #f0f8ff;}#sk-container-id-2 input.sk-toggleable__control:checked~div.sk-toggleable__content {max-height: 200px;max-width: 100%;overflow: auto;}#sk-container-id-2 input.sk-toggleable__control:checked~label.sk-toggleable__label-arrow:before {content: \"▾\";}#sk-container-id-2 div.sk-estimator input.sk-toggleable__control:checked~label.sk-toggleable__label {background-color: #d4ebff;}#sk-container-id-2 div.sk-label input.sk-toggleable__control:checked~label.sk-toggleable__label {background-color: #d4ebff;}#sk-container-id-2 input.sk-hidden--visually {border: 0;clip: rect(1px 1px 1px 1px);clip: rect(1px, 1px, 1px, 1px);height: 1px;margin: -1px;overflow: hidden;padding: 0;position: absolute;width: 1px;}#sk-container-id-2 div.sk-estimator {font-family: monospace;background-color: #f0f8ff;border: 1px dotted black;border-radius: 0.25em;box-sizing: border-box;margin-bottom: 0.5em;}#sk-container-id-2 div.sk-estimator:hover {background-color: #d4ebff;}#sk-container-id-2 div.sk-parallel-item::after {content: \"\";width: 100%;border-bottom: 1px solid gray;flex-grow: 1;}#sk-container-id-2 div.sk-label:hover label.sk-toggleable__label {background-color: #d4ebff;}#sk-container-id-2 div.sk-serial::before {content: \"\";position: absolute;border-left: 1px solid gray;box-sizing: border-box;top: 0;bottom: 0;left: 50%;z-index: 0;}#sk-container-id-2 div.sk-serial {display: flex;flex-direction: column;align-items: center;background-color: white;padding-right: 0.2em;padding-left: 0.2em;position: relative;}#sk-container-id-2 div.sk-item {position: relative;z-index: 1;}#sk-container-id-2 div.sk-parallel {display: flex;align-items: stretch;justify-content: center;background-color: white;position: relative;}#sk-container-id-2 div.sk-item::before, #sk-container-id-2 div.sk-parallel-item::before {content: \"\";position: absolute;border-left: 1px solid gray;box-sizing: border-box;top: 0;bottom: 0;left: 50%;z-index: -1;}#sk-container-id-2 div.sk-parallel-item {display: flex;flex-direction: column;z-index: 1;position: relative;background-color: white;}#sk-container-id-2 div.sk-parallel-item:first-child::after {align-self: flex-end;width: 50%;}#sk-container-id-2 div.sk-parallel-item:last-child::after {align-self: flex-start;width: 50%;}#sk-container-id-2 div.sk-parallel-item:only-child::after {width: 0;}#sk-container-id-2 div.sk-dashed-wrapped {border: 1px dashed gray;margin: 0 0.4em 0.5em 0.4em;box-sizing: border-box;padding-bottom: 0.4em;background-color: white;}#sk-container-id-2 div.sk-label label {font-family: monospace;font-weight: bold;display: inline-block;line-height: 1.2em;}#sk-container-id-2 div.sk-label-container {text-align: center;}#sk-container-id-2 div.sk-container {/* jupyter's `normalize.less` sets `[hidden] { display: none; }` but bootstrap.min.css set `[hidden] { display: none !important; }` so we also need the `!important` here to be able to override the default hidden behavior on the sphinx rendered scikit-learn.org. See: https://github.com/scikit-learn/scikit-learn/issues/21755 */display: inline-block !important;position: relative;}#sk-container-id-2 div.sk-text-repr-fallback {display: none;}</style><div id=\"sk-container-id-2\" class=\"sk-top-container\"><div class=\"sk-text-repr-fallback\"><pre>LinearRegression()</pre><b>In a Jupyter environment, please rerun this cell to show the HTML representation or trust the notebook. <br />On GitHub, the HTML representation is unable to render, please try loading this page with nbviewer.org.</b></div><div class=\"sk-container\" hidden><div class=\"sk-item\"><div class=\"sk-estimator sk-toggleable\"><input class=\"sk-toggleable__control sk-hidden--visually\" id=\"sk-estimator-id-2\" type=\"checkbox\" checked><label for=\"sk-estimator-id-2\" class=\"sk-toggleable__label sk-toggleable__label-arrow\">LinearRegression</label><div class=\"sk-toggleable__content\"><pre>LinearRegression()</pre></div></div></div></div></div>"
      ],
      "text/plain": [
       "LinearRegression()"
      ]
     },
     "execution_count": 42,
     "metadata": {},
     "output_type": "execute_result"
    }
   ],
   "source": [
    "modelo = LinearRegression()\n",
    "modelo.fit(X_train, y_train)"
   ]
  },
  {
   "cell_type": "code",
   "execution_count": 43,
   "id": "eb338164-8550-43b1-a226-9d3aa1548cee",
   "metadata": {},
   "outputs": [],
   "source": [
    "predicciones = modelo.predict(X_test)"
   ]
  },
  {
   "cell_type": "code",
   "execution_count": 44,
   "id": "8b4b45f4-6863-4ded-b28d-1a3c1547ff1c",
   "metadata": {},
   "outputs": [
    {
     "name": "stdout",
     "output_type": "stream",
     "text": [
      "Mean Squared Error (MSE): 63732.87687128685\n",
      "R^2 Score: 0.09598250328451752\n"
     ]
    }
   ],
   "source": [
    "mse = mean_squared_error(y_test, predicciones)\n",
    "r2 = r2_score(y_test, predicciones)\n",
    "print(f'Mean Squared Error (MSE): {mse}')\n",
    "print(f'R^2 Score: {r2}')"
   ]
  },
  {
   "cell_type": "markdown",
   "id": "cd742199-91e9-45fc-9fb0-2d52935fd328",
   "metadata": {},
   "source": [
    "Al ver el claro ejemplo que el modelo no se ajusta a los datos consideraré aplicar la técnica PCA para reducir la dimensionalidad de los datos."
   ]
  },
  {
   "cell_type": "markdown",
   "id": "ddbf68b8-7283-4c93-bdaf-d4c0630a629d",
   "metadata": {},
   "source": [
    "*INICIALIZO EL PCA*\n",
    "---"
   ]
  },
  {
   "cell_type": "code",
   "execution_count": 45,
   "id": "d5ed21d3-22db-4563-90bd-9a09abe24d50",
   "metadata": {},
   "outputs": [],
   "source": [
    "df_numerico = df.select_dtypes(include=['number'])"
   ]
  },
  {
   "cell_type": "code",
   "execution_count": 46,
   "id": "ac149a73-7d0b-499e-bb97-d5fb0d41ca40",
   "metadata": {},
   "outputs": [
    {
     "data": {
      "text/html": [
       "<div>\n",
       "<style scoped>\n",
       "    .dataframe tbody tr th:only-of-type {\n",
       "        vertical-align: middle;\n",
       "    }\n",
       "\n",
       "    .dataframe tbody tr th {\n",
       "        vertical-align: top;\n",
       "    }\n",
       "\n",
       "    .dataframe thead th {\n",
       "        text-align: right;\n",
       "    }\n",
       "</style>\n",
       "<table border=\"1\" class=\"dataframe\">\n",
       "  <thead>\n",
       "    <tr style=\"text-align: right;\">\n",
       "      <th></th>\n",
       "      <th>index</th>\n",
       "      <th>Order ID</th>\n",
       "      <th>Qty</th>\n",
       "      <th>Amount</th>\n",
       "      <th>Categoria_encoded</th>\n",
       "      <th>Seller_encoded</th>\n",
       "    </tr>\n",
       "  </thead>\n",
       "  <tbody>\n",
       "    <tr>\n",
       "      <th>0</th>\n",
       "      <td>0</td>\n",
       "      <td>40580787845731545</td>\n",
       "      <td>0</td>\n",
       "      <td>647.62</td>\n",
       "      <td>0.0</td>\n",
       "      <td>1.0</td>\n",
       "    </tr>\n",
       "    <tr>\n",
       "      <th>1</th>\n",
       "      <td>1</td>\n",
       "      <td>17191981511101146</td>\n",
       "      <td>1</td>\n",
       "      <td>406.00</td>\n",
       "      <td>1.0</td>\n",
       "      <td>1.0</td>\n",
       "    </tr>\n",
       "    <tr>\n",
       "      <th>2</th>\n",
       "      <td>2</td>\n",
       "      <td>40406876767273146</td>\n",
       "      <td>1</td>\n",
       "      <td>329.00</td>\n",
       "      <td>1.0</td>\n",
       "      <td>0.0</td>\n",
       "    </tr>\n",
       "    <tr>\n",
       "      <th>3</th>\n",
       "      <td>3</td>\n",
       "      <td>40396153778133951</td>\n",
       "      <td>0</td>\n",
       "      <td>753.33</td>\n",
       "      <td>2.0</td>\n",
       "      <td>1.0</td>\n",
       "    </tr>\n",
       "    <tr>\n",
       "      <th>4</th>\n",
       "      <td>4</td>\n",
       "      <td>40710697907240320</td>\n",
       "      <td>1</td>\n",
       "      <td>574.00</td>\n",
       "      <td>3.0</td>\n",
       "      <td>0.0</td>\n",
       "    </tr>\n",
       "  </tbody>\n",
       "</table>\n",
       "</div>"
      ],
      "text/plain": [
       "   index           Order ID  Qty  Amount  Categoria_encoded  Seller_encoded\n",
       "0      0  40580787845731545    0  647.62                0.0             1.0\n",
       "1      1  17191981511101146    1  406.00                1.0             1.0\n",
       "2      2  40406876767273146    1  329.00                1.0             0.0\n",
       "3      3  40396153778133951    0  753.33                2.0             1.0\n",
       "4      4  40710697907240320    1  574.00                3.0             0.0"
      ]
     },
     "execution_count": 46,
     "metadata": {},
     "output_type": "execute_result"
    }
   ],
   "source": [
    "df_numerico.head()"
   ]
  },
  {
   "cell_type": "code",
   "execution_count": 47,
   "id": "f23eae98-82cd-457d-a70b-bdac8040f66b",
   "metadata": {},
   "outputs": [],
   "source": [
    "# Inicializi PCA para reducir a 2 componentes\n",
    "pca = PCA(n_components=2)\n",
    "\n",
    "# Ajusto y transformo los datos numéricos\n",
    "pca_resultado = pca.fit_transform(df_numerico)\n",
    "\n",
    "# Calculo la matriz de covarianza de los componentes principales\n",
    "cov_matrix = np.cov(pca_resultado.T)"
   ]
  },
  {
   "cell_type": "code",
   "execution_count": 48,
   "id": "611f867c-dc3e-4598-a85b-b8ba56505408",
   "metadata": {},
   "outputs": [
    {
     "data": {
      "image/png": "[encoded data removed]",
      "text/plain": [
       "<Figure size 1000x600 with 1 Axes>"
      ]
     },
     "metadata": {},
     "output_type": "display_data"
    }
   ],
   "source": [
    "#Creo mapa de calor de la matriz de covarianza\n",
    "\n",
    "fig, ax = plt.subplots(figsize=(10, 6))\n",
    "heatmap = ax.pcolormesh(cov_matrix, cmap='RdBu')\n",
    "\n",
    "ax.set_xlabel('Componentes principales')\n",
    "ax.set_ylabel('Componentes principales')\n",
    "\n",
    "plt.title('Mapa de calor de la matriz de covarianza')\n",
    "plt.show()"
   ]
  },
  {
   "cell_type": "code",
   "execution_count": 49,
   "id": "0d00c5d7-caa6-4700-aef1-40a9929aa7b1",
   "metadata": {},
   "outputs": [
    {
     "name": "stdout",
     "output_type": "stream",
     "text": [
      "PVE por componente 1: 0.9999999999999936\n",
      "PVE por componente 2: 2.3070662826364265e-23\n",
      "Varianza total explicada: 0.9999999999999936\n"
     ]
    }
   ],
   "source": [
    "# Calculo el porcentaje de varianza explicada por cada componente principal\n",
    "pve = pca.explained_variance_ratio_\n",
    "\n",
    "# Muestro el porcentaje de varianza explicada por los dos primeros componentes\n",
    "print('PVE por componente 1:', pve[0])\n",
    "print('PVE por componente 2:', pve[1])\n",
    "\n",
    "# Calculo la varianza total explicada por los dos primeros componentes\n",
    "total_pve = np.sum(pve[:2])\n",
    "\n",
    "# Muestro la varianza total explicada\n",
    "print('Varianza total explicada:', total_pve)"
   ]
  },
  {
   "cell_type": "markdown",
   "id": "b9658313-0ec2-48e9-966d-2d4285c1a243",
   "metadata": {},
   "source": [
    "Vemos que existe un único componente principal significativo que captura la totalidad de la varianza en los datos.\r\n",
    "El segundo componente principal no es relevant.,"
   ]
  },
  {
   "cell_type": "code",
   "execution_count": 50,
   "id": "699f476f-e99a-46ed-aecf-85eb3199dca0",
   "metadata": {},
   "outputs": [],
   "source": [
    "pca = PCA(n_components=1)\n",
    "pca.fit(X)\n",
    "\n",
    "# cargas de los componentes pca\n",
    "cargas = pca.components_"
   ]
  },
  {
   "cell_type": "code",
   "execution_count": 51,
   "id": "4edad437-d48f-4a72-b270-8fcd9946733f",
   "metadata": {},
   "outputs": [
    {
     "name": "stdout",
     "output_type": "stream",
     "text": [
      "[[0.00018694 0.00934096 0.99995635]]\n"
     ]
    }
   ],
   "source": [
    "print(pca.components_)"
   ]
  },
  {
   "cell_type": "markdown",
   "id": "c207edd9-c70f-48c3-a62b-983f776939cf",
   "metadata": {},
   "source": [
    "Determinamos que \"Seller Encoded\" tiene la correlación más fuerte con el primer componente principal."
   ]
  },
  {
   "cell_type": "markdown",
   "id": "df573672-7b5a-4cfd-825b-eb4f8d56e90b",
   "metadata": {},
   "source": [
    "*REALIZO EL METODO DE VALIDACION CRUZADA*\n",
    "----"
   ]
  },
  {
   "cell_type": "code",
   "execution_count": 53,
   "id": "bc304f64-28c8-48a2-8e0a-2246db4f847a",
   "metadata": {},
   "outputs": [],
   "source": [
    "import numpy as np\n",
    "import pandas as pd\n",
    "from sklearn.model_selection import cross_val_score\n",
    "from sklearn.model_selection import train_test_split\n",
    "from sklearn.linear_model import LinearRegression"
   ]
  },
  {
   "cell_type": "code",
   "execution_count": 54,
   "id": "42c7975b-9f42-4e10-9e06-ca0a02d052ac",
   "metadata": {},
   "outputs": [],
   "source": [
    "X = df_numerico.drop(columns=['index', 'Order ID', 'Qty', 'Categoria_encoded', 'Seller_encoded'])\n",
    "y = df_numerico['Amount']\n",
    "\n",
    "# Divido los datos en conjunto de entrenamiento y prueba\n",
    "X_train, X_test, y_train, y_test = train_test_split(X, y, test_size=0.2, random_state=42)"
   ]
  },
  {
   "cell_type": "code",
   "execution_count": 55,
   "id": "7414cc76-2d9e-48b8-9e77-beac0b0cf3f5",
   "metadata": {},
   "outputs": [
    {
     "data": {
      "text/html": [
       "<style>#sk-container-id-3 {color: black;}#sk-container-id-3 pre{padding: 0;}#sk-container-id-3 div.sk-toggleable {background-color: white;}#sk-container-id-3 label.sk-toggleable__label {cursor: pointer;display: block;width: 100%;margin-bottom: 0;padding: 0.3em;box-sizing: border-box;text-align: center;}#sk-container-id-3 label.sk-toggleable__label-arrow:before {content: \"▸\";float: left;margin-right: 0.25em;color: #696969;}#sk-container-id-3 label.sk-toggleable__label-arrow:hover:before {color: black;}#sk-container-id-3 div.sk-estimator:hover label.sk-toggleable__label-arrow:before {color: black;}#sk-container-id-3 div.sk-toggleable__content {max-height: 0;max-width: 0;overflow: hidden;text-align: left;background-color: #f0f8ff;}#sk-container-id-3 div.sk-toggleable__content pre {margin: 0.2em;color: black;border-radius: 0.25em;background-color: #f0f8ff;}#sk-container-id-3 input.sk-toggleable__control:checked~div.sk-toggleable__content {max-height: 200px;max-width: 100%;overflow: auto;}#sk-container-id-3 input.sk-toggleable__control:checked~label.sk-toggleable__label-arrow:before {content: \"▾\";}#sk-container-id-3 div.sk-estimator input.sk-toggleable__control:checked~label.sk-toggleable__label {background-color: #d4ebff;}#sk-container-id-3 div.sk-label input.sk-toggleable__control:checked~label.sk-toggleable__label {background-color: #d4ebff;}#sk-container-id-3 input.sk-hidden--visually {border: 0;clip: rect(1px 1px 1px 1px);clip: rect(1px, 1px, 1px, 1px);height: 1px;margin: -1px;overflow: hidden;padding: 0;position: absolute;width: 1px;}#sk-container-id-3 div.sk-estimator {font-family: monospace;background-color: #f0f8ff;border: 1px dotted black;border-radius: 0.25em;box-sizing: border-box;margin-bottom: 0.5em;}#sk-container-id-3 div.sk-estimator:hover {background-color: #d4ebff;}#sk-container-id-3 div.sk-parallel-item::after {content: \"\";width: 100%;border-bottom: 1px solid gray;flex-grow: 1;}#sk-container-id-3 div.sk-label:hover label.sk-toggleable__label {background-color: #d4ebff;}#sk-container-id-3 div.sk-serial::before {content: \"\";position: absolute;border-left: 1px solid gray;box-sizing: border-box;top: 0;bottom: 0;left: 50%;z-index: 0;}#sk-container-id-3 div.sk-serial {display: flex;flex-direction: column;align-items: center;background-color: white;padding-right: 0.2em;padding-left: 0.2em;position: relative;}#sk-container-id-3 div.sk-item {position: relative;z-index: 1;}#sk-container-id-3 div.sk-parallel {display: flex;align-items: stretch;justify-content: center;background-color: white;position: relative;}#sk-container-id-3 div.sk-item::before, #sk-container-id-3 div.sk-parallel-item::before {content: \"\";position: absolute;border-left: 1px solid gray;box-sizing: border-box;top: 0;bottom: 0;left: 50%;z-index: -1;}#sk-container-id-3 div.sk-parallel-item {display: flex;flex-direction: column;z-index: 1;position: relative;background-color: white;}#sk-container-id-3 div.sk-parallel-item:first-child::after {align-self: flex-end;width: 50%;}#sk-container-id-3 div.sk-parallel-item:last-child::after {align-self: flex-start;width: 50%;}#sk-container-id-3 div.sk-parallel-item:only-child::after {width: 0;}#sk-container-id-3 div.sk-dashed-wrapped {border: 1px dashed gray;margin: 0 0.4em 0.5em 0.4em;box-sizing: border-box;padding-bottom: 0.4em;background-color: white;}#sk-container-id-3 div.sk-label label {font-family: monospace;font-weight: bold;display: inline-block;line-height: 1.2em;}#sk-container-id-3 div.sk-label-container {text-align: center;}#sk-container-id-3 div.sk-container {/* jupyter's `normalize.less` sets `[hidden] { display: none; }` but bootstrap.min.css set `[hidden] { display: none !important; }` so we also need the `!important` here to be able to override the default hidden behavior on the sphinx rendered scikit-learn.org. See: https://github.com/scikit-learn/scikit-learn/issues/21755 */display: inline-block !important;position: relative;}#sk-container-id-3 div.sk-text-repr-fallback {display: none;}</style><div id=\"sk-container-id-3\" class=\"sk-top-container\"><div class=\"sk-text-repr-fallback\"><pre>LinearRegression()</pre><b>In a Jupyter environment, please rerun this cell to show the HTML representation or trust the notebook. <br />On GitHub, the HTML representation is unable to render, please try loading this page with nbviewer.org.</b></div><div class=\"sk-container\" hidden><div class=\"sk-item\"><div class=\"sk-estimator sk-toggleable\"><input class=\"sk-toggleable__control sk-hidden--visually\" id=\"sk-estimator-id-3\" type=\"checkbox\" checked><label for=\"sk-estimator-id-3\" class=\"sk-toggleable__label sk-toggleable__label-arrow\">LinearRegression</label><div class=\"sk-toggleable__content\"><pre>LinearRegression()</pre></div></div></div></div></div>"
      ],
      "text/plain": [
       "LinearRegression()"
      ]
     },
     "execution_count": 55,
     "metadata": {},
     "output_type": "execute_result"
    }
   ],
   "source": [
    "model = LinearRegression()\n",
    "model.fit(X_train, y_train)"
   ]
  },
  {
   "cell_type": "code",
   "execution_count": 56,
   "id": "81836a73-cc56-42f3-8963-eaabbc101339",
   "metadata": {},
   "outputs": [],
   "source": [
    "# Realizo la validación cruzada en el modelo\n",
    "scores = cross_val_score(model, X_train, y_train, cv=5) "
   ]
  },
  {
   "cell_type": "code",
   "execution_count": 57,
   "id": "557603d0-c00f-40aa-9936-b458e919bb62",
   "metadata": {},
   "outputs": [
    {
     "name": "stdout",
     "output_type": "stream",
     "text": [
      "Resultados de validación cruzada: [1. 1. 1. 1. 1.]\n",
      "Promedio de resultados de validación cruzada: 1.0\n"
     ]
    }
   ],
   "source": [
    "print(\"Resultados de validación cruzada:\", scores)\n",
    "print(\"Promedio de resultados de validación cruzada:\", np.mean(scores))"
   ]
  },
  {
   "cell_type": "markdown",
   "id": "0f633b51-4e9e-466e-83fd-d3234f91b4a1",
   "metadata": {},
   "source": [
    "\n",
    "Los resultados de la validación cruzada muestran que el modelo tiene un rendimiento perfecto en todos los pliegues de validación cruzada, lo que nos sugiere que el modelo es capaz de generalizar bien con los datos de entrenamiento."
   ]
  }
 ],
 "metadata": {
  "kernelspec": {
   "display_name": "Python 3 (ipykernel)",
   "language": "python",
   "name": "python3"
  },
  "language_info": {
   "codemirror_mode": {
    "name": "ipython",
    "version": 3
   },
   "file_extension": ".py",
   "mimetype": "text/x-python",
   "name": "python",
   "nbconvert_exporter": "python",
   "pygments_lexer": "ipython3",
   "version": "3.11.4"
  }
 },
 "nbformat": 4,
 "nbformat_minor": 5
}
