{
 "cells": [
  {
   "cell_type": "markdown",
   "metadata": {},
   "source": [
    "**CLASE 41 - ALGORITMOS DE CLASIFICACION**\n",
    "---"
   ]
  },
  {
   "cell_type": "code",
   "execution_count": 13,
   "metadata": {},
   "outputs": [],
   "source": [
    "#Importacion de Librerias\n",
    "\n",
    "import pandas as pd\n",
    "import numpy as np\n",
    "import matplotlib as mpl\n",
    "import matplotlib.pyplot as plt\n",
    "import seaborn as sns\n",
    "import os\n",
    "from sklearn.impute import SimpleImputer\n",
    "import matplotlib.ticker as ticker\n",
    "from sklearn.preprocessing import OrdinalEncoder\n",
    "from category_encoders import BinaryEncoder\n",
    "from category_encoders import HashingEncoder\n",
    "# Librerías para arboles de decision \n",
    "from sklearn.tree import DecisionTreeClassifier\n",
    "from sklearn import tree\n",
    "from sklearn.tree import DecisionTreeClassifier, plot_tree\n",
    "# Librerias para regresión logística\n",
    "import statsmodels.api as sm\n",
    "import statsmodels.formula.api as smf\n",
    "# Librería para PCA\n",
    "from sklearn.decomposition import PCA\n",
    "# Libreria para KMeans\n",
    "from sklearn.cluster import KMeans\n",
    "# Libreria para normalizar\n",
    "from sklearn.preprocessing import StandardScaler\n",
    "# Libreria para separar en train y test\n",
    "from sklearn.model_selection import train_test_split\n",
    "from sklearn.linear_model import LinearRegression\n",
    "from sklearn.metrics import mean_squared_error, r2_score\n",
    "# Librería para RandomForest\n",
    "from sklearn.ensemble import RandomForestClassifier, RandomForestRegressor\n",
    "# Librerías para métricas\n",
    "from sklearn.metrics import confusion_matrix, roc_curve, auc, accuracy_score, classification_report,recall_score, f1_score\n",
    "import scipy \n",
    "# Seteo para que no se muestre notación científica\n",
    "np.set_printoptions(suppress=True)"
   ]
  },
  {
   "cell_type": "code",
   "execution_count": 2,
   "metadata": {},
   "outputs": [],
   "source": [
    "# Función para calcular métricas\n",
    "def CalculaMetricas(variable):\n",
    "    \n",
    "    # Elimino los vacíos\n",
    "    variable = variable[variable.isnull() == False]\n",
    "\n",
    "    media = variable.mean()\n",
    "    mediana = variable.median()\n",
    "    media_recortada = scipy.stats.trim_mean(variable,0.1)\n",
    "    varianza = variable.var()\n",
    "    desvio = variable.std()\n",
    "    primer_cuartil = variable.quantile(0.25)\n",
    "    tercer_cuartil = variable.quantile(0.75)\n",
    "    percentil_1 = variable.quantile(0.01)\n",
    "    percentil_99 = variable.quantile(0.99)\n",
    "    error_estandar = scipy.stats.sem(variable) \n",
    "    cv = scipy.stats.variation(variable)\n",
    "    asimetria = scipy.stats.skew(variable) \n",
    "    curtosis = scipy.stats.kurtosis(variable)    \n",
    "    \n",
    "    resultado = (\n",
    "        f'Medidas de Tendencia Central\\n'\n",
    "        f'Media: {round(media, 0)}\\n'\n",
    "        f'Media Recortada: {round(media_recortada, 0)}\\n'\n",
    "        f'Mediana: {round(mediana, 0)}\\n\\n'\n",
    "        f'Medidas de Localización\\n'\n",
    "        f'Primer Cuartil: {round(primer_cuartil, 0)}\\n'\n",
    "        f'Tercer Cuartil: {round(tercer_cuartil, 0)}\\n'\n",
    "        f'Percentil 1: {round(percentil_1, 0)}\\n'\n",
    "        f'Percentil 99: {round(percentil_99, 0)}\\n\\n'\n",
    "        f'Medidas de Dispersión Absolutas\\n'\n",
    "        f'Varianza: {round(varianza, 0)}\\n'\n",
    "        f'Desvío Estándar: {round(desvio, 0)}\\n'\n",
    "        f'Rango Intercuartílico: {round(tercer_cuartil - primer_cuartil, 0)}\\n'\n",
    "        f'Error Estándar: {round(error_estandar, 0)}\\n\\n'\n",
    "        f'Medidas de Dispersión Relativas\\n'\n",
    "        f'Coeficiente de Variación: {round(cv, 2)}\\n'\n",
    "        f'Desvío Intercuartílico: {round((tercer_cuartil - primer_cuartil) / (tercer_cuartil + primer_cuartil), 2)}\\n\\n'\n",
    "        f'Medidas de Asimetría y Curtosis\\n'\n",
    "        f'Coeficiente de Asimetría: {round(asimetria, 2)}\\n'\n",
    "        f'Coeficiente de Curtosis: {round(curtosis, 2)}'\n",
    "    )\n",
    "\n",
    "    print(resultado)"
   ]
  },
  {
   "cell_type": "code",
   "execution_count": 3,
   "metadata": {},
   "outputs": [],
   "source": [
    "ruta = '/Users/Gerson/Desktop/Data-Science.'\n",
    "os.chdir(ruta)\n",
    "\n",
    "df = pd.read_excel(\"Amazon_Sales_Report.xlsx\")"
   ]
  },
  {
   "cell_type": "code",
   "execution_count": 4,
   "metadata": {},
   "outputs": [
    {
     "data": {
      "text/html": [
       "<div>\n",
       "<style scoped>\n",
       "    .dataframe tbody tr th:only-of-type {\n",
       "        vertical-align: middle;\n",
       "    }\n",
       "\n",
       "    .dataframe tbody tr th {\n",
       "        vertical-align: top;\n",
       "    }\n",
       "\n",
       "    .dataframe thead th {\n",
       "        text-align: right;\n",
       "    }\n",
       "</style>\n",
       "<table border=\"1\" class=\"dataframe\">\n",
       "  <thead>\n",
       "    <tr style=\"text-align: right;\">\n",
       "      <th></th>\n",
       "      <th>index</th>\n",
       "      <th>Order ID</th>\n",
       "      <th>Date</th>\n",
       "      <th>Status</th>\n",
       "      <th>Fulfilment</th>\n",
       "      <th>ship-service-level</th>\n",
       "      <th>Style</th>\n",
       "      <th>SKU</th>\n",
       "      <th>Category</th>\n",
       "      <th>Size</th>\n",
       "      <th>...</th>\n",
       "      <th>Qty</th>\n",
       "      <th>currency</th>\n",
       "      <th>Amount</th>\n",
       "      <th>ship-city</th>\n",
       "      <th>ship-state</th>\n",
       "      <th>ship-postal-code</th>\n",
       "      <th>ship-country</th>\n",
       "      <th>promotion-ids</th>\n",
       "      <th>B2B</th>\n",
       "      <th>fulfilled-by</th>\n",
       "    </tr>\n",
       "  </thead>\n",
       "  <tbody>\n",
       "    <tr>\n",
       "      <th>0</th>\n",
       "      <td>0</td>\n",
       "      <td>405-8078784-5731545</td>\n",
       "      <td>04-30-22</td>\n",
       "      <td>Cancelled</td>\n",
       "      <td>Merchant</td>\n",
       "      <td>Standard</td>\n",
       "      <td>SET389</td>\n",
       "      <td>SET389-KR-NP-S</td>\n",
       "      <td>Set</td>\n",
       "      <td>S</td>\n",
       "      <td>...</td>\n",
       "      <td>0</td>\n",
       "      <td>INR</td>\n",
       "      <td>647.62</td>\n",
       "      <td>MUMBAI</td>\n",
       "      <td>MAHARASHTRA</td>\n",
       "      <td>400081.0</td>\n",
       "      <td>IN</td>\n",
       "      <td>NaN</td>\n",
       "      <td>False</td>\n",
       "      <td>Easy Ship</td>\n",
       "    </tr>\n",
       "    <tr>\n",
       "      <th>1</th>\n",
       "      <td>1</td>\n",
       "      <td>171-9198151-1101146</td>\n",
       "      <td>04-30-22</td>\n",
       "      <td>Shipped</td>\n",
       "      <td>Merchant</td>\n",
       "      <td>Standard</td>\n",
       "      <td>JNE3781</td>\n",
       "      <td>JNE3781-KR-XXXL</td>\n",
       "      <td>kurta</td>\n",
       "      <td>3XL</td>\n",
       "      <td>...</td>\n",
       "      <td>1</td>\n",
       "      <td>INR</td>\n",
       "      <td>406.00</td>\n",
       "      <td>BENGALURU</td>\n",
       "      <td>KARNATAKA</td>\n",
       "      <td>560085.0</td>\n",
       "      <td>IN</td>\n",
       "      <td>Amazon PLCC Free-Financing Universal Merchant ...</td>\n",
       "      <td>False</td>\n",
       "      <td>Easy Ship</td>\n",
       "    </tr>\n",
       "    <tr>\n",
       "      <th>2</th>\n",
       "      <td>2</td>\n",
       "      <td>404-0687676-7273146</td>\n",
       "      <td>04-30-22</td>\n",
       "      <td>Shipped</td>\n",
       "      <td>Amazon</td>\n",
       "      <td>Expedited</td>\n",
       "      <td>JNE3371</td>\n",
       "      <td>JNE3371-KR-XL</td>\n",
       "      <td>kurta</td>\n",
       "      <td>XL</td>\n",
       "      <td>...</td>\n",
       "      <td>1</td>\n",
       "      <td>INR</td>\n",
       "      <td>329.00</td>\n",
       "      <td>NAVI MUMBAI</td>\n",
       "      <td>MAHARASHTRA</td>\n",
       "      <td>410210.0</td>\n",
       "      <td>IN</td>\n",
       "      <td>IN Core Free Shipping 2015/04/08 23-48-5-108</td>\n",
       "      <td>True</td>\n",
       "      <td>NaN</td>\n",
       "    </tr>\n",
       "    <tr>\n",
       "      <th>3</th>\n",
       "      <td>3</td>\n",
       "      <td>403-9615377-8133951</td>\n",
       "      <td>04-30-22</td>\n",
       "      <td>Cancelled</td>\n",
       "      <td>Merchant</td>\n",
       "      <td>Standard</td>\n",
       "      <td>J0341</td>\n",
       "      <td>J0341-DR-L</td>\n",
       "      <td>Western Dress</td>\n",
       "      <td>L</td>\n",
       "      <td>...</td>\n",
       "      <td>0</td>\n",
       "      <td>INR</td>\n",
       "      <td>753.33</td>\n",
       "      <td>PUDUCHERRY</td>\n",
       "      <td>PUDUCHERRY</td>\n",
       "      <td>605008.0</td>\n",
       "      <td>IN</td>\n",
       "      <td>NaN</td>\n",
       "      <td>False</td>\n",
       "      <td>Easy Ship</td>\n",
       "    </tr>\n",
       "    <tr>\n",
       "      <th>4</th>\n",
       "      <td>4</td>\n",
       "      <td>407-1069790-7240320</td>\n",
       "      <td>04-30-22</td>\n",
       "      <td>Shipped</td>\n",
       "      <td>Amazon</td>\n",
       "      <td>Expedited</td>\n",
       "      <td>JNE3671</td>\n",
       "      <td>JNE3671-TU-XXXL</td>\n",
       "      <td>Top</td>\n",
       "      <td>3XL</td>\n",
       "      <td>...</td>\n",
       "      <td>1</td>\n",
       "      <td>INR</td>\n",
       "      <td>574.00</td>\n",
       "      <td>CHENNAI</td>\n",
       "      <td>TAMIL NADU</td>\n",
       "      <td>600073.0</td>\n",
       "      <td>IN</td>\n",
       "      <td>NaN</td>\n",
       "      <td>False</td>\n",
       "      <td>NaN</td>\n",
       "    </tr>\n",
       "  </tbody>\n",
       "</table>\n",
       "<p>5 rows × 22 columns</p>\n",
       "</div>"
      ],
      "text/plain": [
       "   index             Order ID      Date     Status Fulfilment  \\\n",
       "0      0  405-8078784-5731545  04-30-22  Cancelled   Merchant   \n",
       "1      1  171-9198151-1101146  04-30-22    Shipped   Merchant   \n",
       "2      2  404-0687676-7273146  04-30-22    Shipped     Amazon   \n",
       "3      3  403-9615377-8133951  04-30-22  Cancelled   Merchant   \n",
       "4      4  407-1069790-7240320  04-30-22    Shipped     Amazon   \n",
       "\n",
       "  ship-service-level    Style              SKU       Category Size  ... Qty  \\\n",
       "0           Standard   SET389   SET389-KR-NP-S            Set    S  ...   0   \n",
       "1           Standard  JNE3781  JNE3781-KR-XXXL          kurta  3XL  ...   1   \n",
       "2          Expedited  JNE3371    JNE3371-KR-XL          kurta   XL  ...   1   \n",
       "3           Standard    J0341       J0341-DR-L  Western Dress    L  ...   0   \n",
       "4          Expedited  JNE3671  JNE3671-TU-XXXL            Top  3XL  ...   1   \n",
       "\n",
       "  currency  Amount    ship-city   ship-state ship-postal-code ship-country  \\\n",
       "0      INR  647.62       MUMBAI  MAHARASHTRA         400081.0           IN   \n",
       "1      INR  406.00    BENGALURU    KARNATAKA         560085.0           IN   \n",
       "2      INR  329.00  NAVI MUMBAI  MAHARASHTRA         410210.0           IN   \n",
       "3      INR  753.33   PUDUCHERRY   PUDUCHERRY         605008.0           IN   \n",
       "4      INR  574.00      CHENNAI   TAMIL NADU         600073.0           IN   \n",
       "\n",
       "                                       promotion-ids    B2B fulfilled-by  \n",
       "0                                                NaN  False    Easy Ship  \n",
       "1  Amazon PLCC Free-Financing Universal Merchant ...  False    Easy Ship  \n",
       "2       IN Core Free Shipping 2015/04/08 23-48-5-108   True          NaN  \n",
       "3                                                NaN  False    Easy Ship  \n",
       "4                                                NaN  False          NaN  \n",
       "\n",
       "[5 rows x 22 columns]"
      ]
     },
     "execution_count": 4,
     "metadata": {},
     "output_type": "execute_result"
    }
   ],
   "source": [
    "df.head()"
   ]
  },
  {
   "cell_type": "code",
   "execution_count": 5,
   "metadata": {},
   "outputs": [
    {
     "name": "stderr",
     "output_type": "stream",
     "text": [
      "/var/folders/kg/bj4nwrzj2k71bwdyw9wl8ll40000gp/T/ipykernel_1118/2515344036.py:4: FutureWarning: Setting an item of incompatible dtype is deprecated and will raise in a future error of pandas. Value 'No especificado' has dtype incompatible with float64, please explicitly cast to a compatible dtype first.\n",
      "  df['ship-postal-code'].fillna('No especificado', inplace=True)\n",
      "/var/folders/kg/bj4nwrzj2k71bwdyw9wl8ll40000gp/T/ipykernel_1118/2515344036.py:25: UserWarning: Could not infer format, so each element will be parsed individually, falling back to `dateutil`. To ensure parsing is consistent and as-expected, please specify a format.\n",
      "  df['Date']=pd.to_datetime(df['Date'])\n"
     ]
    }
   ],
   "source": [
    "df['Courier Status'].fillna('No especificado', inplace=True)\n",
    "df['ship-city'].fillna('No especificado', inplace=True)\n",
    "df['ship-state'].fillna('No especificado', inplace=True)\n",
    "df['ship-postal-code'].fillna('No especificado', inplace=True)\n",
    "df['ship-country'].fillna('No especificado', inplace=True)\n",
    "df['promotion-ids'].fillna('No especificado', inplace=True)\n",
    "\n",
    "df.dropna(subset=['currency', 'Amount'], inplace=True)\n",
    "df = df[df['Amount'] != 0]\n",
    "\n",
    "valores_faltantes_columnas = [\"B2B\", \"fulfilled-by\"]\n",
    "datos_faltantes = df[valores_faltantes_columnas].isnull()\n",
    "\n",
    "imputer = SimpleImputer(strategy='most_frequent')\n",
    "\n",
    "df[valores_faltantes_columnas] = imputer.fit_transform(df[valores_faltantes_columnas])\n",
    "\n",
    "# Elimino los guiones de la columna 'Order ID'\n",
    "df['Order ID'] = df['Order ID'].str.replace('-', '')\n",
    "\n",
    "# Convierto la columna a tipo numérico\n",
    "df['Order ID'] = pd.to_numeric(df['Order ID'], errors='coerce')\n",
    "\n",
    "#convierto el campo date en formato fecha.\n",
    "df['Date']=pd.to_datetime(df['Date'])"
   ]
  },
  {
   "cell_type": "code",
   "execution_count": 6,
   "metadata": {},
   "outputs": [],
   "source": [
    "# Creamos el codificador indicandole el orden de la variables\n",
    "encoder = OrdinalEncoder(categories=[[\"Set\", \"kurta\", \"Western Dress\", \"Top\", \"Ethnic Dress\", \"Blouse\", \"Bottom\", \"Saree\", \"Dupatta\"]])\n",
    "\n",
    "# Ajustamos el codificador con la variable Fulfilment y la transformamos\n",
    "encoder.fit(df[[\"Category\"]])\n",
    "df[\"Categoria_encoded\"] = encoder.transform(df[[\"Category\"]])"
   ]
  },
  {
   "cell_type": "code",
   "execution_count": 7,
   "metadata": {},
   "outputs": [],
   "source": [
    "# Creamos el codificador indicandole el orden de la variables\n",
    "encoder = OrdinalEncoder(categories=[[\"Amazon\", \"Merchant\"]])\n",
    "\n",
    "# Ajustamos el codificador con la variable Fulfilment y la transformamos\n",
    "encoder.fit(df[[\"Fulfilment\"]])\n",
    "df[\"Seller_encoded\"] = encoder.transform(df[[\"Fulfilment\"]])"
   ]
  },
  {
   "cell_type": "code",
   "execution_count": 8,
   "metadata": {},
   "outputs": [
    {
     "data": {
      "text/plain": [
       "Text(0.5, 1.0, 'Distribución de Amount')"
      ]
     },
     "execution_count": 8,
     "metadata": {},
     "output_type": "execute_result"
    },
    {
     "data": {
      "image/png": "[encoded data removed]",
      "text/plain": [
       "<Figure size 640x480 with 1 Axes>"
      ]
     },
     "metadata": {},
     "output_type": "display_data"
    }
   ],
   "source": [
    "# Distribución de variable Amount\n",
    "plt.figure()\n",
    "# Histograma\n",
    "sns.histplot(data = df,\n",
    "             x = 'Amount',\n",
    "             bins = 30,            \n",
    "             alpha = 0.25,\n",
    "             kde = True,\n",
    "             stat='probability')\n",
    "plt.title('Distribución de Amount')"
   ]
  },
  {
   "cell_type": "code",
   "execution_count": 9,
   "metadata": {},
   "outputs": [
    {
     "name": "stdout",
     "output_type": "stream",
     "text": [
      "Medidas de Tendencia Central\n",
      "Media: 660.0\n",
      "Media Recortada: 631.0\n",
      "Mediana: 620.0\n",
      "\n",
      "Medidas de Localización\n",
      "Primer Cuartil: 458.0\n",
      "Tercer Cuartil: 788.0\n",
      "Percentil 1: 292.0\n",
      "Percentil 99: 1442.0\n",
      "\n",
      "Medidas de Dispersión Absolutas\n",
      "Varianza: 69916.0\n",
      "Desvío Estándar: 264.0\n",
      "Rango Intercuartílico: 330.0\n",
      "Error Estándar: 1.0\n",
      "\n",
      "Medidas de Dispersión Relativas\n",
      "Coeficiente de Variación: 0.4\n",
      "Desvío Intercuartílico: 0.26\n",
      "\n",
      "Medidas de Asimetría y Curtosis\n",
      "Coeficiente de Asimetría: 0.96\n",
      "Coeficiente de Curtosis: 0.63\n"
     ]
    }
   ],
   "source": [
    "# Métricas de la variable Amount\n",
    "CalculaMetricas(df['Amount'])"
   ]
  },
  {
   "cell_type": "code",
   "execution_count": 15,
   "metadata": {},
   "outputs": [],
   "source": [
    "X = df[['Qty', 'Seller_encoded', 'Categoria_encoded']]\n",
    "y = df['Amount']"
   ]
  },
  {
   "cell_type": "code",
   "execution_count": 17,
   "metadata": {},
   "outputs": [],
   "source": [
    "X_train, X_test, y_train, y_test = train_test_split(X, y, test_size=0.2, random_state=42)"
   ]
  },
  {
   "cell_type": "code",
   "execution_count": 18,
   "metadata": {},
   "outputs": [
    {
     "data": {
      "text/html": [
       "<style>#sk-container-id-1 {color: black;}#sk-container-id-1 pre{padding: 0;}#sk-container-id-1 div.sk-toggleable {background-color: white;}#sk-container-id-1 label.sk-toggleable__label {cursor: pointer;display: block;width: 100%;margin-bottom: 0;padding: 0.3em;box-sizing: border-box;text-align: center;}#sk-container-id-1 label.sk-toggleable__label-arrow:before {content: \"▸\";float: left;margin-right: 0.25em;color: #696969;}#sk-container-id-1 label.sk-toggleable__label-arrow:hover:before {color: black;}#sk-container-id-1 div.sk-estimator:hover label.sk-toggleable__label-arrow:before {color: black;}#sk-container-id-1 div.sk-toggleable__content {max-height: 0;max-width: 0;overflow: hidden;text-align: left;background-color: #f0f8ff;}#sk-container-id-1 div.sk-toggleable__content pre {margin: 0.2em;color: black;border-radius: 0.25em;background-color: #f0f8ff;}#sk-container-id-1 input.sk-toggleable__control:checked~div.sk-toggleable__content {max-height: 200px;max-width: 100%;overflow: auto;}#sk-container-id-1 input.sk-toggleable__control:checked~label.sk-toggleable__label-arrow:before {content: \"▾\";}#sk-container-id-1 div.sk-estimator input.sk-toggleable__control:checked~label.sk-toggleable__label {background-color: #d4ebff;}#sk-container-id-1 div.sk-label input.sk-toggleable__control:checked~label.sk-toggleable__label {background-color: #d4ebff;}#sk-container-id-1 input.sk-hidden--visually {border: 0;clip: rect(1px 1px 1px 1px);clip: rect(1px, 1px, 1px, 1px);height: 1px;margin: -1px;overflow: hidden;padding: 0;position: absolute;width: 1px;}#sk-container-id-1 div.sk-estimator {font-family: monospace;background-color: #f0f8ff;border: 1px dotted black;border-radius: 0.25em;box-sizing: border-box;margin-bottom: 0.5em;}#sk-container-id-1 div.sk-estimator:hover {background-color: #d4ebff;}#sk-container-id-1 div.sk-parallel-item::after {content: \"\";width: 100%;border-bottom: 1px solid gray;flex-grow: 1;}#sk-container-id-1 div.sk-label:hover label.sk-toggleable__label {background-color: #d4ebff;}#sk-container-id-1 div.sk-serial::before {content: \"\";position: absolute;border-left: 1px solid gray;box-sizing: border-box;top: 0;bottom: 0;left: 50%;z-index: 0;}#sk-container-id-1 div.sk-serial {display: flex;flex-direction: column;align-items: center;background-color: white;padding-right: 0.2em;padding-left: 0.2em;position: relative;}#sk-container-id-1 div.sk-item {position: relative;z-index: 1;}#sk-container-id-1 div.sk-parallel {display: flex;align-items: stretch;justify-content: center;background-color: white;position: relative;}#sk-container-id-1 div.sk-item::before, #sk-container-id-1 div.sk-parallel-item::before {content: \"\";position: absolute;border-left: 1px solid gray;box-sizing: border-box;top: 0;bottom: 0;left: 50%;z-index: -1;}#sk-container-id-1 div.sk-parallel-item {display: flex;flex-direction: column;z-index: 1;position: relative;background-color: white;}#sk-container-id-1 div.sk-parallel-item:first-child::after {align-self: flex-end;width: 50%;}#sk-container-id-1 div.sk-parallel-item:last-child::after {align-self: flex-start;width: 50%;}#sk-container-id-1 div.sk-parallel-item:only-child::after {width: 0;}#sk-container-id-1 div.sk-dashed-wrapped {border: 1px dashed gray;margin: 0 0.4em 0.5em 0.4em;box-sizing: border-box;padding-bottom: 0.4em;background-color: white;}#sk-container-id-1 div.sk-label label {font-family: monospace;font-weight: bold;display: inline-block;line-height: 1.2em;}#sk-container-id-1 div.sk-label-container {text-align: center;}#sk-container-id-1 div.sk-container {/* jupyter's `normalize.less` sets `[hidden] { display: none; }` but bootstrap.min.css set `[hidden] { display: none !important; }` so we also need the `!important` here to be able to override the default hidden behavior on the sphinx rendered scikit-learn.org. See: https://github.com/scikit-learn/scikit-learn/issues/21755 */display: inline-block !important;position: relative;}#sk-container-id-1 div.sk-text-repr-fallback {display: none;}</style><div id=\"sk-container-id-1\" class=\"sk-top-container\"><div class=\"sk-text-repr-fallback\"><pre>LinearRegression()</pre><b>In a Jupyter environment, please rerun this cell to show the HTML representation or trust the notebook. <br />On GitHub, the HTML representation is unable to render, please try loading this page with nbviewer.org.</b></div><div class=\"sk-container\" hidden><div class=\"sk-item\"><div class=\"sk-estimator sk-toggleable\"><input class=\"sk-toggleable__control sk-hidden--visually\" id=\"sk-estimator-id-1\" type=\"checkbox\" checked><label for=\"sk-estimator-id-1\" class=\"sk-toggleable__label sk-toggleable__label-arrow\">LinearRegression</label><div class=\"sk-toggleable__content\"><pre>LinearRegression()</pre></div></div></div></div></div>"
      ],
      "text/plain": [
       "LinearRegression()"
      ]
     },
     "execution_count": 18,
     "metadata": {},
     "output_type": "execute_result"
    }
   ],
   "source": [
    "modelo = LinearRegression()\n",
    "modelo.fit(X_train, y_train)"
   ]
  },
  {
   "cell_type": "code",
   "execution_count": 19,
   "metadata": {},
   "outputs": [],
   "source": [
    "predicciones = modelo.predict(X_test)"
   ]
  },
  {
   "cell_type": "code",
   "execution_count": 20,
   "metadata": {},
   "outputs": [
    {
     "name": "stdout",
     "output_type": "stream",
     "text": [
      "Mean Squared Error (MSE): 63732.87687128689\n",
      "R^2 Score: 0.09598250328451685\n"
     ]
    }
   ],
   "source": [
    "mse = mean_squared_error(y_test, predicciones)\n",
    "r2 = r2_score(y_test, predicciones)\n",
    "print(f'Mean Squared Error (MSE): {mse}')\n",
    "print(f'R^2 Score: {r2}')"
   ]
  }
 ],
 "metadata": {
  "kernelspec": {
   "display_name": "Python 3",
   "language": "python",
   "name": "python3"
  },
  "language_info": {
   "codemirror_mode": {
    "name": "ipython",
    "version": 3
   },
   "file_extension": ".py",
   "mimetype": "text/x-python",
   "name": "python",
   "nbconvert_exporter": "python",
   "pygments_lexer": "ipython3",
   "version": "3.12.0"
  }
 },
 "nbformat": 4,
 "nbformat_minor": 2
}
