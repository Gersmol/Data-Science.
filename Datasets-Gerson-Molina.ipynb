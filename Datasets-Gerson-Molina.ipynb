{
 "cells": [
  {
   "cell_type": "code",
   "execution_count": 1,
   "id": "acbb78d6-edd6-46e3-9c7e-39d53441a988",
   "metadata": {},
   "outputs": [],
   "source": [
    "import pandas as pd\n",
    "import numpy as np\n",
    "import os"
   ]
  },
  {
   "cell_type": "markdown",
   "id": "79ecd080-bdda-4b27-82f3-c1a6804ccff6",
   "metadata": {},
   "source": [
    "DATASETS #1"
   ]
  },
  {
   "cell_type": "code",
   "execution_count": null,
   "id": "65021395-5056-46ca-bc0f-16d2225dc6f5",
   "metadata": {},
   "outputs": [],
   "source": [
    "VARIABLE POTENCIAL DE ANÁLISIS:\n",
    "\n",
    "  Evaluar y comprender el rendimiento de ventas para tomar decisiones estratégicas informadas y mejorar la rentabilidad del negocio.\n",
    "\n",
    "  Las posibles variables a análizar pordrían ser:\n",
    "\n",
    "  *Comportamiento del volumen de ventas.\n",
    "  *Productos y categorías con mayor venta.\n",
    "  *Impacto de promociones.\n",
    "  *Rentabilidad de cada rubro o producto."
   ]
  },
  {
   "cell_type": "code",
   "execution_count": 5,
   "id": "a232ee6b-343d-43ae-8f2c-14658d179aa4",
   "metadata": {},
   "outputs": [
    {
     "name": "stdout",
     "output_type": "stream",
     "text": [
      "   index             Order ID      Date                        Status  \\\n",
      "0      0  405-8078784-5731545  04-30-22                     Cancelled   \n",
      "1      1  171-9198151-1101146  04-30-22  Shipped - Delivered to Buyer   \n",
      "2      2  404-0687676-7273146  04-30-22                       Shipped   \n",
      "3      3  403-9615377-8133951  04-30-22                     Cancelled   \n",
      "4      4  407-1069790-7240320  04-30-22                       Shipped   \n",
      "\n",
      "  Fulfilment Sales Channel  ship-service-level    Style              SKU  \\\n",
      "0   Merchant      Amazon.in           Standard   SET389   SET389-KR-NP-S   \n",
      "1   Merchant      Amazon.in           Standard  JNE3781  JNE3781-KR-XXXL   \n",
      "2     Amazon      Amazon.in          Expedited  JNE3371    JNE3371-KR-XL   \n",
      "3   Merchant      Amazon.in           Standard    J0341       J0341-DR-L   \n",
      "4     Amazon      Amazon.in          Expedited  JNE3671  JNE3671-TU-XXXL   \n",
      "\n",
      "        Category  ... currency  Amount    ship-city   ship-state  \\\n",
      "0            Set  ...      INR  647.62       MUMBAI  MAHARASHTRA   \n",
      "1          kurta  ...      INR  406.00    BENGALURU    KARNATAKA   \n",
      "2          kurta  ...      INR  329.00  NAVI MUMBAI  MAHARASHTRA   \n",
      "3  Western Dress  ...      INR  753.33   PUDUCHERRY   PUDUCHERRY   \n",
      "4            Top  ...      INR  574.00      CHENNAI   TAMIL NADU   \n",
      "\n",
      "  ship-postal-code  ship-country  \\\n",
      "0         400081.0            IN   \n",
      "1         560085.0            IN   \n",
      "2         410210.0            IN   \n",
      "3         605008.0            IN   \n",
      "4         600073.0            IN   \n",
      "\n",
      "                                       promotion-ids    B2B  fulfilled-by  \\\n",
      "0                                                NaN  False     Easy Ship   \n",
      "1  Amazon PLCC Free-Financing Universal Merchant ...  False     Easy Ship   \n",
      "2       IN Core Free Shipping 2015/04/08 23-48-5-108   True           NaN   \n",
      "3                                                NaN  False     Easy Ship   \n",
      "4                                                NaN  False           NaN   \n",
      "\n",
      "  Unnamed: 22  \n",
      "0         NaN  \n",
      "1         NaN  \n",
      "2         NaN  \n",
      "3         NaN  \n",
      "4         NaN  \n",
      "\n",
      "[5 rows x 24 columns]\n"
     ]
    }
   ],
   "source": [
    "nueva_ruta = 'C:\\\\Users\\\\gerson.molina\\\\Desktop\\\\Data Scientis\\\\Datasets'\n",
    "os.chdir(nueva_ruta)\n",
    "\n",
    "df_amazonsales = pd.read_excel(\"Amazon_Sales_Report.xlsx\")\n",
    "print(df_amazonsales.head())"
   ]
  },
  {
   "cell_type": "code",
   "execution_count": 4,
   "id": "425863d3-322a-4af6-a6b2-b61fe2f150b8",
   "metadata": {},
   "outputs": [
    {
     "name": "stdout",
     "output_type": "stream",
     "text": [
      "(128975, 24)\n"
     ]
    }
   ],
   "source": [
    "print(df_amazonsales.shape)"
   ]
  },
  {
   "cell_type": "markdown",
   "id": "dde01c7e-db9e-424f-88c5-9bd65f862f02",
   "metadata": {},
   "source": [
    "DATASETS #2"
   ]
  },
  {
   "cell_type": "markdown",
   "id": "94bda784-82ab-439f-a1c9-7ea4fed0bba0",
   "metadata": {},
   "source": [
    "VARIABLE POTENCIAL DE ANÁLISIS:\n",
    "\n",
    " Se podría determinar variables para análizar como:\n",
    " \n",
    " *Educación: comprender y mejorar el sistema educativo, identificar desigualdades en la educación y desarrollar estrategias efectivas para abordar estos problemas.\n",
    " \n",
    " *Tasa de Desempleo: comprender la persistencia del desempleo y desarrollar estrategias para abordar los desafíos relacionados con el empleo a largo plazo."
   ]
  },
  {
   "cell_type": "code",
   "execution_count": 6,
   "id": "5e82fb7a-ee76-451f-a2d7-4b765a601936",
   "metadata": {},
   "outputs": [
    {
     "name": "stdout",
     "output_type": "stream",
     "text": [
      "      (P/Km2)\"  Abbreviation Agricultural Land( %) Land Area(Km2)  \\\n",
      "0  Afghanistan          60.0                    AF         58.10%   \n",
      "1      Albania         105.0                    AL         43.10%   \n",
      "2      Algeria          18.0                    DZ         17.40%   \n",
      "3      Andorra         164.0                    AD         40.00%   \n",
      "4       Angola          26.0                    AO         47.50%   \n",
      "\n",
      "  Armed Forces size Birth Rate  Calling Code  Capital/Major City  \\\n",
      "0            652.23        323         32.49                93.0   \n",
      "1            28.748          9         11.78               355.0   \n",
      "2         2,381,741        317         24.28               213.0   \n",
      "3               468        NaN          7.20               376.0   \n",
      "4         1,246,700        117         40.73               244.0   \n",
      "\n",
      "      Co2-Emissions      CPI  ... Physicians per thousand Population  \\\n",
      "0             Kabul    8.672  ...                  78.40%       0.28   \n",
      "1            Tirana    4.536  ...                  56.90%       1.20   \n",
      "2           Algiers  150.006  ...                  28.10%       1.72   \n",
      "3  Andorra la Vella      469  ...                  36.40%       3.33   \n",
      "4            Luanda   34.693  ...                  33.40%       0.21   \n",
      "\n",
      "  Population: Labor force participation (%)  Tax revenue (%) Total tax rate  \\\n",
      "0                                38,041,754           48.90%          9.30%   \n",
      "1                                 2,854,191           55.70%         18.60%   \n",
      "2                                43,053,054           41.20%         37.20%   \n",
      "3                                    77.142              NaN            NaN   \n",
      "4                                31,825,295           77.50%          9.20%   \n",
      "\n",
      "  Unemployment rate Urban_population    Latitude   Longitude  Unnamed: 34  \n",
      "0            71.40%           11.12%   9,797,273   3393911.0   67709953.0  \n",
      "1            36.60%           12.33%   1,747,593  41153332.0   20168331.0  \n",
      "2            66.10%           11.70%  31,510,100  28033886.0    1659626.0  \n",
      "3               NaN              NaN      67.873  42506285.0    1521801.0  \n",
      "4            49.10%            6.89%  21,061,025 -11202692.0   17873887.0  \n",
      "\n",
      "[5 rows x 35 columns]\n"
     ]
    }
   ],
   "source": [
    "nueva_ruta = 'C:\\\\Users\\\\gerson.molina\\\\Desktop\\\\Data Scientis\\\\Datasets'\n",
    "os.chdir(nueva_ruta)\n",
    "\n",
    "df_worlddata = pd.read_excel(\"World-data-2023.xlsx\")\n",
    "print(df_worlddata.head())"
   ]
  },
  {
   "cell_type": "code",
   "execution_count": 7,
   "id": "36d268ea-b503-4ebf-9747-c310a7d8cc26",
   "metadata": {},
   "outputs": [
    {
     "name": "stdout",
     "output_type": "stream",
     "text": [
      "(195, 35)\n"
     ]
    }
   ],
   "source": [
    "print(df_worlddata.shape)"
   ]
  },
  {
   "cell_type": "markdown",
   "id": "a4968382-8962-4ec6-97ec-173e6defcb32",
   "metadata": {},
   "source": [
    "DATASETS #3"
   ]
  },
  {
   "cell_type": "markdown",
   "id": "9a703490-77fd-4ef4-ae50-f7a215af01da",
   "metadata": {},
   "source": [
    "VARIABLE POTENCIAL DE ANÁLISIS:\n",
    "\n",
    "  Comprender el comportamiento operativo y la satisfacción del cliente y cómo mejorar la eficiencia operativa y tomar decisiones estratégicas que puedan impulsar el éxito y el crecimiento del negocio.\n",
    "\n",
    "  Se podría análizar variables cómo:\n",
    "\n",
    "  *Gestión de Operaciones de los vuelos.\n",
    "  *Eficiencia operativa y puntualidad.\n",
    "  *Segmentación del Mercado.\n",
    "  *Satisfacción del Cliente.\n",
    "  *Estrategias de Marketing."
   ]
  },
  {
   "cell_type": "code",
   "execution_count": 9,
   "id": "939f9a96-722e-403c-85c2-46af75f38057",
   "metadata": {},
   "outputs": [
    {
     "name": "stdout",
     "output_type": "stream",
     "text": [
      "   Passenger ID First Name Last Name  Gender   Age Nationality  \\\n",
      "0         10856     Edithe    Leggis  Female  62.0       Japan   \n",
      "1         43872     Elwood      Catt    Male  62.0   Nicaragua   \n",
      "2         42633      Darby   Felgate    Male  67.0      Russia   \n",
      "3         78493   Dominica      Pyle  Female  71.0       China   \n",
      "4         82072        Bay   Pencost    Male  21.0       China   \n",
      "\n",
      "                Airport Name Airport Country Code   Country Name  \\\n",
      "0           Coldfoot Airport                   US  United States   \n",
      "1          Kugluktuk Airport                   CA         Canada   \n",
      "2    Grenoble-IsÃ¨re Airport                   FR         France   \n",
      "3  Ottawa / Gatineau Airport                   CA         Canada   \n",
      "4            Gillespie Field                   US  United States   \n",
      "\n",
      "  Airport Continent     Continents Departure Date Arrival Airport  \\\n",
      "0               NAM  North America      6/28/2022             CXF   \n",
      "1               NAM  North America     12/26/2022             YCO   \n",
      "2                EU         Europe      1/18/2022             GNB   \n",
      "3               NAM  North America      9/16/2022             YND   \n",
      "4               NAM  North America      2/25/2022             SEE   \n",
      "\n",
      "      Pilot Name Flight Status  \n",
      "0  Edithe Leggis       On Time  \n",
      "1    Elwood Catt       On Time  \n",
      "2  Darby Felgate       On Time  \n",
      "3  Dominica Pyle       Delayed  \n",
      "4    Bay Pencost       On Time  \n"
     ]
    }
   ],
   "source": [
    "nueva_ruta = 'C:\\\\Users\\\\gerson.molina\\\\Desktop\\\\Data Scientis\\\\Datasets'\n",
    "os.chdir(nueva_ruta)\n",
    "\n",
    "df_airlinedata = pd.read_excel(\"Airline_Dataset.xlsx\")\n",
    "print(df_airlinedata.head())"
   ]
  },
  {
   "cell_type": "code",
   "execution_count": 10,
   "id": "1bff407d-12c4-44ca-8b9c-edbe70ac8a18",
   "metadata": {},
   "outputs": [
    {
     "name": "stdout",
     "output_type": "stream",
     "text": [
      "(98619, 15)\n"
     ]
    }
   ],
   "source": [
    "print(df_airlinedata.shape)"
   ]
  }
 ],
 "metadata": {
  "kernelspec": {
   "display_name": "Python 3 (ipykernel)",
   "language": "python",
   "name": "python3"
  },
  "language_info": {
   "codemirror_mode": {
    "name": "ipython",
    "version": 3
   },
   "file_extension": ".py",
   "mimetype": "text/x-python",
   "name": "python",
   "nbconvert_exporter": "python",
   "pygments_lexer": "ipython3",
   "version": "3.11.4"
  }
 },
 "nbformat": 4,
 "nbformat_minor": 5
}
