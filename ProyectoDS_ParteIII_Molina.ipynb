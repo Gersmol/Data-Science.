{
 "cells": [
  {
   "cell_type": "code",
   "execution_count": 77,
   "id": "32f39829-ae21-4719-9b9d-74608b614d89",
   "metadata": {},
   "outputs": [],
   "source": [
    "import pandas as pd\n",
    "import numpy as np\n",
    "import matplotlib as mpl\n",
    "import matplotlib.pyplot as plt\n",
    "import seaborn as sns\n",
    "import os\n",
    "import statsmodels.api as sm\n",
    "from sklearn.impute import SimpleImputer\n",
    "\n",
    "import sys\n",
    "import joblib\n",
    "sys.modules['sklearn.externals.joblib'] = joblib\n",
    "from mlxtend.feature_selection import SequentialFeatureSelector as SFS\n",
    "from sklearn.linear_model import LinearRegression"
   ]
  },
  {
   "cell_type": "code",
   "execution_count": 78,
   "id": "d071398b-5706-462a-8e12-d32d1605d15f",
   "metadata": {},
   "outputs": [],
   "source": [
    "ruta = 'C:\\\\Users\\\\gerson.molina\\\\Desktop\\\\Data Scientis\\\\Datasets'\n",
    "os.chdir(ruta)\n",
    "\n",
    "df = pd.read_excel(\"Amazon_Sales_Report.xlsx\")"
   ]
  },
  {
   "cell_type": "code",
   "execution_count": 79,
   "id": "2ef489f0-4eda-4aff-9fd4-c387535a34a1",
   "metadata": {},
   "outputs": [
    {
     "data": {
      "text/html": [
       "<div>\n",
       "<style scoped>\n",
       "    .dataframe tbody tr th:only-of-type {\n",
       "        vertical-align: middle;\n",
       "    }\n",
       "\n",
       "    .dataframe tbody tr th {\n",
       "        vertical-align: top;\n",
       "    }\n",
       "\n",
       "    .dataframe thead th {\n",
       "        text-align: right;\n",
       "    }\n",
       "</style>\n",
       "<table border=\"1\" class=\"dataframe\">\n",
       "  <thead>\n",
       "    <tr style=\"text-align: right;\">\n",
       "      <th></th>\n",
       "      <th>index</th>\n",
       "      <th>Order ID</th>\n",
       "      <th>Date</th>\n",
       "      <th>Status</th>\n",
       "      <th>Fulfilment</th>\n",
       "      <th>ship-service-level</th>\n",
       "      <th>Style</th>\n",
       "      <th>SKU</th>\n",
       "      <th>Category</th>\n",
       "      <th>Size</th>\n",
       "      <th>...</th>\n",
       "      <th>Qty</th>\n",
       "      <th>currency</th>\n",
       "      <th>Amount</th>\n",
       "      <th>ship-city</th>\n",
       "      <th>ship-state</th>\n",
       "      <th>ship-postal-code</th>\n",
       "      <th>ship-country</th>\n",
       "      <th>promotion-ids</th>\n",
       "      <th>B2B</th>\n",
       "      <th>fulfilled-by</th>\n",
       "    </tr>\n",
       "  </thead>\n",
       "  <tbody>\n",
       "    <tr>\n",
       "      <th>0</th>\n",
       "      <td>0</td>\n",
       "      <td>405-8078784-5731545</td>\n",
       "      <td>04-30-22</td>\n",
       "      <td>Cancelled</td>\n",
       "      <td>Merchant</td>\n",
       "      <td>Standard</td>\n",
       "      <td>SET389</td>\n",
       "      <td>SET389-KR-NP-S</td>\n",
       "      <td>Set</td>\n",
       "      <td>S</td>\n",
       "      <td>...</td>\n",
       "      <td>0</td>\n",
       "      <td>INR</td>\n",
       "      <td>647.62</td>\n",
       "      <td>MUMBAI</td>\n",
       "      <td>MAHARASHTRA</td>\n",
       "      <td>400081.0</td>\n",
       "      <td>IN</td>\n",
       "      <td>NaN</td>\n",
       "      <td>False</td>\n",
       "      <td>Easy Ship</td>\n",
       "    </tr>\n",
       "    <tr>\n",
       "      <th>1</th>\n",
       "      <td>1</td>\n",
       "      <td>171-9198151-1101146</td>\n",
       "      <td>04-30-22</td>\n",
       "      <td>Shipped</td>\n",
       "      <td>Merchant</td>\n",
       "      <td>Standard</td>\n",
       "      <td>JNE3781</td>\n",
       "      <td>JNE3781-KR-XXXL</td>\n",
       "      <td>kurta</td>\n",
       "      <td>3XL</td>\n",
       "      <td>...</td>\n",
       "      <td>1</td>\n",
       "      <td>INR</td>\n",
       "      <td>406.00</td>\n",
       "      <td>BENGALURU</td>\n",
       "      <td>KARNATAKA</td>\n",
       "      <td>560085.0</td>\n",
       "      <td>IN</td>\n",
       "      <td>Amazon PLCC Free-Financing Universal Merchant ...</td>\n",
       "      <td>False</td>\n",
       "      <td>Easy Ship</td>\n",
       "    </tr>\n",
       "    <tr>\n",
       "      <th>2</th>\n",
       "      <td>2</td>\n",
       "      <td>404-0687676-7273146</td>\n",
       "      <td>04-30-22</td>\n",
       "      <td>Shipped</td>\n",
       "      <td>Amazon</td>\n",
       "      <td>Expedited</td>\n",
       "      <td>JNE3371</td>\n",
       "      <td>JNE3371-KR-XL</td>\n",
       "      <td>kurta</td>\n",
       "      <td>XL</td>\n",
       "      <td>...</td>\n",
       "      <td>1</td>\n",
       "      <td>INR</td>\n",
       "      <td>329.00</td>\n",
       "      <td>NAVI MUMBAI</td>\n",
       "      <td>MAHARASHTRA</td>\n",
       "      <td>410210.0</td>\n",
       "      <td>IN</td>\n",
       "      <td>IN Core Free Shipping 2015/04/08 23-48-5-108</td>\n",
       "      <td>True</td>\n",
       "      <td>NaN</td>\n",
       "    </tr>\n",
       "    <tr>\n",
       "      <th>3</th>\n",
       "      <td>3</td>\n",
       "      <td>403-9615377-8133951</td>\n",
       "      <td>04-30-22</td>\n",
       "      <td>Cancelled</td>\n",
       "      <td>Merchant</td>\n",
       "      <td>Standard</td>\n",
       "      <td>J0341</td>\n",
       "      <td>J0341-DR-L</td>\n",
       "      <td>Western Dress</td>\n",
       "      <td>L</td>\n",
       "      <td>...</td>\n",
       "      <td>0</td>\n",
       "      <td>INR</td>\n",
       "      <td>753.33</td>\n",
       "      <td>PUDUCHERRY</td>\n",
       "      <td>PUDUCHERRY</td>\n",
       "      <td>605008.0</td>\n",
       "      <td>IN</td>\n",
       "      <td>NaN</td>\n",
       "      <td>False</td>\n",
       "      <td>Easy Ship</td>\n",
       "    </tr>\n",
       "    <tr>\n",
       "      <th>4</th>\n",
       "      <td>4</td>\n",
       "      <td>407-1069790-7240320</td>\n",
       "      <td>04-30-22</td>\n",
       "      <td>Shipped</td>\n",
       "      <td>Amazon</td>\n",
       "      <td>Expedited</td>\n",
       "      <td>JNE3671</td>\n",
       "      <td>JNE3671-TU-XXXL</td>\n",
       "      <td>Top</td>\n",
       "      <td>3XL</td>\n",
       "      <td>...</td>\n",
       "      <td>1</td>\n",
       "      <td>INR</td>\n",
       "      <td>574.00</td>\n",
       "      <td>CHENNAI</td>\n",
       "      <td>TAMIL NADU</td>\n",
       "      <td>600073.0</td>\n",
       "      <td>IN</td>\n",
       "      <td>NaN</td>\n",
       "      <td>False</td>\n",
       "      <td>NaN</td>\n",
       "    </tr>\n",
       "  </tbody>\n",
       "</table>\n",
       "<p>5 rows × 22 columns</p>\n",
       "</div>"
      ],
      "text/plain": [
       "   index             Order ID      Date     Status Fulfilment  \\\n",
       "0      0  405-8078784-5731545  04-30-22  Cancelled   Merchant   \n",
       "1      1  171-9198151-1101146  04-30-22    Shipped   Merchant   \n",
       "2      2  404-0687676-7273146  04-30-22    Shipped     Amazon   \n",
       "3      3  403-9615377-8133951  04-30-22  Cancelled   Merchant   \n",
       "4      4  407-1069790-7240320  04-30-22    Shipped     Amazon   \n",
       "\n",
       "  ship-service-level    Style              SKU       Category Size  ... Qty  \\\n",
       "0           Standard   SET389   SET389-KR-NP-S            Set    S  ...   0   \n",
       "1           Standard  JNE3781  JNE3781-KR-XXXL          kurta  3XL  ...   1   \n",
       "2          Expedited  JNE3371    JNE3371-KR-XL          kurta   XL  ...   1   \n",
       "3           Standard    J0341       J0341-DR-L  Western Dress    L  ...   0   \n",
       "4          Expedited  JNE3671  JNE3671-TU-XXXL            Top  3XL  ...   1   \n",
       "\n",
       "  currency  Amount    ship-city   ship-state ship-postal-code ship-country  \\\n",
       "0      INR  647.62       MUMBAI  MAHARASHTRA         400081.0           IN   \n",
       "1      INR  406.00    BENGALURU    KARNATAKA         560085.0           IN   \n",
       "2      INR  329.00  NAVI MUMBAI  MAHARASHTRA         410210.0           IN   \n",
       "3      INR  753.33   PUDUCHERRY   PUDUCHERRY         605008.0           IN   \n",
       "4      INR  574.00      CHENNAI   TAMIL NADU         600073.0           IN   \n",
       "\n",
       "                                       promotion-ids    B2B fulfilled-by  \n",
       "0                                                NaN  False    Easy Ship  \n",
       "1  Amazon PLCC Free-Financing Universal Merchant ...  False    Easy Ship  \n",
       "2       IN Core Free Shipping 2015/04/08 23-48-5-108   True          NaN  \n",
       "3                                                NaN  False    Easy Ship  \n",
       "4                                                NaN  False          NaN  \n",
       "\n",
       "[5 rows x 22 columns]"
      ]
     },
     "execution_count": 79,
     "metadata": {},
     "output_type": "execute_result"
    }
   ],
   "source": [
    "df.head()"
   ]
  },
  {
   "cell_type": "code",
   "execution_count": 80,
   "id": "dc187217-24c6-4617-b266-4631147728d9",
   "metadata": {},
   "outputs": [
    {
     "name": "stdout",
     "output_type": "stream",
     "text": [
      "<class 'pandas.core.frame.DataFrame'>\n",
      "RangeIndex: 128975 entries, 0 to 128974\n",
      "Data columns (total 22 columns):\n",
      " #   Column              Non-Null Count   Dtype  \n",
      "---  ------              --------------   -----  \n",
      " 0   index               128975 non-null  int64  \n",
      " 1   Order ID            128975 non-null  object \n",
      " 2   Date                128975 non-null  object \n",
      " 3   Status              128975 non-null  object \n",
      " 4   Fulfilment          128975 non-null  object \n",
      " 5   ship-service-level  128975 non-null  object \n",
      " 6   Style               128975 non-null  object \n",
      " 7   SKU                 128975 non-null  object \n",
      " 8   Category            128975 non-null  object \n",
      " 9   Size                128975 non-null  object \n",
      " 10  ASIN                128975 non-null  object \n",
      " 11  Courier Status      122103 non-null  object \n",
      " 12  Qty                 128975 non-null  int64  \n",
      " 13  currency            121180 non-null  object \n",
      " 14  Amount              121180 non-null  float64\n",
      " 15  ship-city           128942 non-null  object \n",
      " 16  ship-state          128935 non-null  object \n",
      " 17  ship-postal-code    128935 non-null  float64\n",
      " 18  ship-country        128935 non-null  object \n",
      " 19  promotion-ids       79815 non-null   object \n",
      " 20  B2B                 128968 non-null  object \n",
      " 21  fulfilled-by        39276 non-null   object \n",
      "dtypes: float64(2), int64(2), object(18)\n",
      "memory usage: 21.6+ MB\n"
     ]
    }
   ],
   "source": [
    "df.info()"
   ]
  },
  {
   "cell_type": "code",
   "execution_count": 81,
   "id": "001f9cd9-474d-464c-9ab4-bdeb4c658116",
   "metadata": {},
   "outputs": [],
   "source": [
    "#Se llenó los valores nulos con la sintaxis 'No especificado'.\n",
    "df['Courier Status'].fillna('No especificado', inplace=True)\n",
    "df['ship-city'].fillna('No especificado', inplace=True)\n",
    "df['ship-state'].fillna('No especificado', inplace=True)\n",
    "df['ship-postal-code'].fillna('No especificado', inplace=True)\n",
    "df['ship-country'].fillna('No especificado', inplace=True)\n",
    "df['promotion-ids'].fillna('No especificado', inplace=True)\n",
    "\n",
    "#Se eliminaron estas filas con valores nulos ya que no se consideraron indispensables para el análisis.\n",
    "df.dropna(subset=['currency', 'Amount'], inplace=True)\n",
    "\n",
    "# Procedemos a imputar las variables b2b y fulfilled-by con el método sklearn.\n",
    "valores_faltantes_columnas = [\"B2B\", \"fulfilled-by\"]\n",
    "datos_faltantes = df[valores_faltantes_columnas].isnull()\n",
    "\n",
    "# Crear un imputador que reemplace los valores faltantes con la categoría más frecuente\n",
    "imputer = SimpleImputer(strategy='most_frequent')\n",
    "\n",
    "# Realizar la imputación solo en las columnas seleccionadas\n",
    "df[valores_faltantes_columnas] = imputer.fit_transform(df[valores_faltantes_columnas])"
   ]
  },
  {
   "cell_type": "code",
   "execution_count": 82,
   "id": "abe67fe1-1340-48cb-aaf6-91602152695e",
   "metadata": {},
   "outputs": [
    {
     "name": "stdout",
     "output_type": "stream",
     "text": [
      "<class 'pandas.core.frame.DataFrame'>\n",
      "Index: 121180 entries, 0 to 128974\n",
      "Data columns (total 22 columns):\n",
      " #   Column              Non-Null Count   Dtype  \n",
      "---  ------              --------------   -----  \n",
      " 0   index               121180 non-null  int64  \n",
      " 1   Order ID            121180 non-null  object \n",
      " 2   Date                121180 non-null  object \n",
      " 3   Status              121180 non-null  object \n",
      " 4   Fulfilment          121180 non-null  object \n",
      " 5   ship-service-level  121180 non-null  object \n",
      " 6   Style               121180 non-null  object \n",
      " 7   SKU                 121180 non-null  object \n",
      " 8   Category            121180 non-null  object \n",
      " 9   Size                121180 non-null  object \n",
      " 10  ASIN                121180 non-null  object \n",
      " 11  Courier Status      121180 non-null  object \n",
      " 12  Qty                 121180 non-null  int64  \n",
      " 13  currency            121180 non-null  object \n",
      " 14  Amount              121180 non-null  float64\n",
      " 15  ship-city           121180 non-null  object \n",
      " 16  ship-state          121180 non-null  object \n",
      " 17  ship-postal-code    121180 non-null  object \n",
      " 18  ship-country        121180 non-null  object \n",
      " 19  promotion-ids       121180 non-null  object \n",
      " 20  B2B                 121180 non-null  object \n",
      " 21  fulfilled-by        121180 non-null  object \n",
      "dtypes: float64(1), int64(2), object(19)\n",
      "memory usage: 21.3+ MB\n"
     ]
    }
   ],
   "source": [
    "df.info()"
   ]
  },
  {
   "cell_type": "markdown",
   "id": "137e997f-0fad-4bac-a757-14b33a3e7b2d",
   "metadata": {},
   "source": [
    "**CORRELACION CON EL TARGET**"
   ]
  },
  {
   "cell_type": "code",
   "execution_count": 195,
   "id": "6ea56ac5-82c4-4a09-be31-5b26371edfd6",
   "metadata": {},
   "outputs": [],
   "source": [
    "df = df.apply(pd.to_numeric, errors='coerce')"
   ]
  },
  {
   "cell_type": "code",
   "execution_count": 196,
   "id": "acf02cd6-4313-4e10-abd4-66a69e1650b2",
   "metadata": {},
   "outputs": [],
   "source": [
    "matriz_correlacion = df.corr(method='pearson')\n",
    "matriz_correlacion_target = matriz_correlacion['Qty']\n",
    "matriz_correlacion_target = abs(matriz_correlacion_target)\n",
    "columnas_a_excluir = ['Qty', 'Qty']\n",
    "matriz_correlacion_target = matriz_correlacion_target.drop(columns=columnas_a_excluir, index=columnas_a_excluir)\n",
    "matriz_correlacion_target = matriz_correlacion_target.sort_values(ascending=False)"
   ]
  },
  {
   "cell_type": "code",
   "execution_count": 244,
   "id": "d584f7e1-a95a-4ecf-a4ad-2f0dc55207f6",
   "metadata": {},
   "outputs": [
    {
     "data": {
      "image/png": "[encoded data removed]",
      "text/plain": [
       "<Figure size 1000x600 with 1 Axes>"
      ]
     },
     "metadata": {},
     "output_type": "display_data"
    }
   ],
   "source": [
    "matriz_correlacion_target_graficar = matriz_correlacion_target[0:5]\n",
    "plt.figure(figsize=(10, 6)) \n",
    "plt.barh(matriz_correlacion_target_graficar.index, \n",
    "         matriz_correlacion_target_graficar.values,\n",
    "         color = '#A989D6')\n",
    "plt.xlabel('Correlación')\n",
    "plt.title('Correlación con Qty')\n",
    "plt.gca().invert_yaxis()  \n",
    "plt.show()"
   ]
  },
  {
   "cell_type": "code",
   "execution_count": 198,
   "id": "fa52fb6e-661e-4b66-9585-4be6b95280f3",
   "metadata": {},
   "outputs": [
    {
     "data": {
      "text/plain": [
       "index     0\n",
       "Qty       0\n",
       "Amount    0\n",
       "B2B       0\n",
       "TRAIN     0\n",
       "dtype: int64"
      ]
     },
     "execution_count": 198,
     "metadata": {},
     "output_type": "execute_result"
    }
   ],
   "source": [
    "valores_nulos  = df.isnull().sum()\n",
    "columnas_con_nulos = valores_nulos[valores_nulos == 0]\n",
    "columnas_con_nulos"
   ]
  },
  {
   "cell_type": "code",
   "execution_count": 199,
   "id": "bda52e50-a46a-4759-beda-058e831c0ee4",
   "metadata": {},
   "outputs": [],
   "source": [
    "def forward_selection(data, target, significance_level):\n",
    "    initial_features = data.columns.tolist()\n",
    "    best_features = []\n",
    "    while (len(initial_features)>0):\n",
    "        remaining_features = list(set(initial_features)-set(best_features))\n",
    "        new_pval = pd.Series(dtype = 'float64',\n",
    "                             index = remaining_features)\n",
    "        for new_column in remaining_features:\n",
    "            model = sm.OLS(target, sm.add_constant(data[best_features+[new_column]])).fit()\n",
    "            new_pval[new_column] = model.pvalues[new_column]\n",
    "        min_p_value = new_pval.min()\n",
    "        if(min_p_value<significance_level):\n",
    "            best_features.append(new_pval.idxmin())\n",
    "        else:\n",
    "            break\n",
    "    return best_features"
   ]
  },
  {
   "cell_type": "code",
   "execution_count": 215,
   "id": "11d6c736-2320-400d-80ce-0a74db2624c5",
   "metadata": {},
   "outputs": [],
   "source": [
    "X = df[['index','Amount']]    \n",
    "y = df['Qty']"
   ]
  },
  {
   "cell_type": "code",
   "execution_count": 216,
   "id": "724e1712-f08f-4f62-a11a-cfb13c8a9982",
   "metadata": {},
   "outputs": [
    {
     "data": {
      "text/html": [
       "<div>\n",
       "<style scoped>\n",
       "    .dataframe tbody tr th:only-of-type {\n",
       "        vertical-align: middle;\n",
       "    }\n",
       "\n",
       "    .dataframe tbody tr th {\n",
       "        vertical-align: top;\n",
       "    }\n",
       "\n",
       "    .dataframe thead th {\n",
       "        text-align: right;\n",
       "    }\n",
       "</style>\n",
       "<table border=\"1\" class=\"dataframe\">\n",
       "  <thead>\n",
       "    <tr style=\"text-align: right;\">\n",
       "      <th></th>\n",
       "      <th>index</th>\n",
       "      <th>Amount</th>\n",
       "    </tr>\n",
       "  </thead>\n",
       "  <tbody>\n",
       "    <tr>\n",
       "      <th>0</th>\n",
       "      <td>0</td>\n",
       "      <td>647.62</td>\n",
       "    </tr>\n",
       "    <tr>\n",
       "      <th>1</th>\n",
       "      <td>1</td>\n",
       "      <td>406.00</td>\n",
       "    </tr>\n",
       "    <tr>\n",
       "      <th>2</th>\n",
       "      <td>2</td>\n",
       "      <td>329.00</td>\n",
       "    </tr>\n",
       "    <tr>\n",
       "      <th>3</th>\n",
       "      <td>3</td>\n",
       "      <td>753.33</td>\n",
       "    </tr>\n",
       "    <tr>\n",
       "      <th>4</th>\n",
       "      <td>4</td>\n",
       "      <td>574.00</td>\n",
       "    </tr>\n",
       "    <tr>\n",
       "      <th>...</th>\n",
       "      <td>...</td>\n",
       "      <td>...</td>\n",
       "    </tr>\n",
       "    <tr>\n",
       "      <th>128970</th>\n",
       "      <td>128970</td>\n",
       "      <td>517.00</td>\n",
       "    </tr>\n",
       "    <tr>\n",
       "      <th>128971</th>\n",
       "      <td>128971</td>\n",
       "      <td>999.00</td>\n",
       "    </tr>\n",
       "    <tr>\n",
       "      <th>128972</th>\n",
       "      <td>128972</td>\n",
       "      <td>690.00</td>\n",
       "    </tr>\n",
       "    <tr>\n",
       "      <th>128973</th>\n",
       "      <td>128973</td>\n",
       "      <td>1199.00</td>\n",
       "    </tr>\n",
       "    <tr>\n",
       "      <th>128974</th>\n",
       "      <td>128974</td>\n",
       "      <td>696.00</td>\n",
       "    </tr>\n",
       "  </tbody>\n",
       "</table>\n",
       "<p>121180 rows × 2 columns</p>\n",
       "</div>"
      ],
      "text/plain": [
       "         index   Amount\n",
       "0            0   647.62\n",
       "1            1   406.00\n",
       "2            2   329.00\n",
       "3            3   753.33\n",
       "4            4   574.00\n",
       "...        ...      ...\n",
       "128970  128970   517.00\n",
       "128971  128971   999.00\n",
       "128972  128972   690.00\n",
       "128973  128973  1199.00\n",
       "128974  128974   696.00\n",
       "\n",
       "[121180 rows x 2 columns]"
      ]
     },
     "execution_count": 216,
     "metadata": {},
     "output_type": "execute_result"
    }
   ],
   "source": [
    "X"
   ]
  },
  {
   "cell_type": "code",
   "execution_count": 217,
   "id": "4c4ac3ef-b1bc-4499-be43-5204e778f94e",
   "metadata": {},
   "outputs": [
    {
     "data": {
      "text/plain": [
       "0         0\n",
       "1         1\n",
       "2         1\n",
       "3         0\n",
       "4         1\n",
       "         ..\n",
       "128970    1\n",
       "128971    1\n",
       "128972    1\n",
       "128973    1\n",
       "128974    1\n",
       "Name: Qty, Length: 121180, dtype: int64"
      ]
     },
     "execution_count": 217,
     "metadata": {},
     "output_type": "execute_result"
    }
   ],
   "source": [
    "y"
   ]
  },
  {
   "cell_type": "code",
   "execution_count": 218,
   "id": "791d3b6d-b2a2-484f-a26d-8429703781ff",
   "metadata": {},
   "outputs": [],
   "source": [
    "initial_features = X.columns.tolist()\n",
    "best_features = []"
   ]
  },
  {
   "cell_type": "code",
   "execution_count": 219,
   "id": "b5f7efe9-1c56-4ea3-a7b0-ad2fa60c8532",
   "metadata": {},
   "outputs": [
    {
     "data": {
      "text/plain": [
       "['index', 'Amount']"
      ]
     },
     "execution_count": 219,
     "metadata": {},
     "output_type": "execute_result"
    }
   ],
   "source": [
    "initial_features"
   ]
  },
  {
   "cell_type": "code",
   "execution_count": 220,
   "id": "e22c7748-af80-4afe-bd41-0a31aec49538",
   "metadata": {},
   "outputs": [
    {
     "data": {
      "text/plain": [
       "[]"
      ]
     },
     "execution_count": 220,
     "metadata": {},
     "output_type": "execute_result"
    }
   ],
   "source": [
    "best_features"
   ]
  },
  {
   "cell_type": "code",
   "execution_count": 221,
   "id": "709463dd-1b7b-4080-813f-64cbeceaa524",
   "metadata": {},
   "outputs": [
    {
     "data": {
      "text/plain": [
       "2"
      ]
     },
     "execution_count": 221,
     "metadata": {},
     "output_type": "execute_result"
    }
   ],
   "source": [
    "len(initial_features)"
   ]
  },
  {
   "cell_type": "code",
   "execution_count": 222,
   "id": "6f956d91-53e6-496b-9ab6-f12c5cb769c9",
   "metadata": {},
   "outputs": [
    {
     "data": {
      "text/plain": [
       "['Amount', 'index']"
      ]
     },
     "execution_count": 222,
     "metadata": {},
     "output_type": "execute_result"
    }
   ],
   "source": [
    "remaining_features = list(set(initial_features)-set(best_features))\n",
    "remaining_features"
   ]
  },
  {
   "cell_type": "code",
   "execution_count": 223,
   "id": "e99fa32e-b5c4-4c0f-884a-7a967e92c4da",
   "metadata": {},
   "outputs": [
    {
     "data": {
      "text/plain": [
       "Amount   NaN\n",
       "index    NaN\n",
       "dtype: float64"
      ]
     },
     "execution_count": 223,
     "metadata": {},
     "output_type": "execute_result"
    }
   ],
   "source": [
    "new_pval = pd.Series(dtype='float64',\n",
    "                     index = remaining_features)\n",
    "new_pval"
   ]
  },
  {
   "cell_type": "code",
   "execution_count": 224,
   "id": "b8a56d87-e802-4499-b3c2-519b21908bff",
   "metadata": {},
   "outputs": [],
   "source": [
    "for new_column in remaining_features:\n",
    "            model = sm.OLS(y, sm.add_constant(X[best_features+[new_column]])).fit()\n",
    "            new_pval[new_column] = model.pvalues[new_column]"
   ]
  },
  {
   "cell_type": "code",
   "execution_count": 225,
   "id": "93d524da-2ac5-442d-8466-4e9431c43936",
   "metadata": {},
   "outputs": [
    {
     "data": {
      "text/plain": [
       "Amount    3.177616e-120\n",
       "index      1.952282e-12\n",
       "dtype: float64"
      ]
     },
     "execution_count": 225,
     "metadata": {},
     "output_type": "execute_result"
    }
   ],
   "source": [
    "new_pval"
   ]
  },
  {
   "cell_type": "code",
   "execution_count": 226,
   "id": "04bdb57a-3ed1-4a52-bee2-c062f15ae890",
   "metadata": {},
   "outputs": [
    {
     "data": {
      "text/plain": [
       "3.1776158047240675e-120"
      ]
     },
     "execution_count": 226,
     "metadata": {},
     "output_type": "execute_result"
    }
   ],
   "source": [
    "min_p_value = new_pval.min()\n",
    "min_p_value"
   ]
  },
  {
   "cell_type": "code",
   "execution_count": 227,
   "id": "f127e727-5205-48e9-b50a-2c1cb1139d76",
   "metadata": {},
   "outputs": [],
   "source": [
    "if(min_p_value<0.01):\n",
    "            best_features.append(new_pval.idxmin())"
   ]
  },
  {
   "cell_type": "code",
   "execution_count": 228,
   "id": "91124896-720b-4c5b-a832-a09c8e02ae40",
   "metadata": {},
   "outputs": [
    {
     "data": {
      "text/plain": [
       "['Amount']"
      ]
     },
     "execution_count": 228,
     "metadata": {},
     "output_type": "execute_result"
    }
   ],
   "source": [
    "best_features"
   ]
  },
  {
   "cell_type": "code",
   "execution_count": 229,
   "id": "1410f7bd-c206-4bc9-8fce-42a90eeb96c0",
   "metadata": {},
   "outputs": [],
   "source": [
    "cantidad_registros = df.shape[0]\n",
    "semilla = 15\n",
    "np.random.seed(semilla)\n",
    "serie_random = np.random.rand(cantidad_registros)\n",
    "df['TRAIN'] = np.where(serie_random < 0.3, 0, 1)"
   ]
  },
  {
   "cell_type": "code",
   "execution_count": 231,
   "id": "1d9e1e98-b6fd-4e35-95cc-94c650ae3708",
   "metadata": {},
   "outputs": [
    {
     "data": {
      "text/html": [
       "<div>\n",
       "<style scoped>\n",
       "    .dataframe tbody tr th:only-of-type {\n",
       "        vertical-align: middle;\n",
       "    }\n",
       "\n",
       "    .dataframe tbody tr th {\n",
       "        vertical-align: top;\n",
       "    }\n",
       "\n",
       "    .dataframe thead th {\n",
       "        text-align: right;\n",
       "    }\n",
       "</style>\n",
       "<table border=\"1\" class=\"dataframe\">\n",
       "  <thead>\n",
       "    <tr style=\"text-align: right;\">\n",
       "      <th></th>\n",
       "      <th>TRAIN</th>\n",
       "      <th>Cant</th>\n",
       "      <th>Cant_Exito</th>\n",
       "      <th>Tasa_Exito</th>\n",
       "    </tr>\n",
       "  </thead>\n",
       "  <tbody>\n",
       "    <tr>\n",
       "      <th>0</th>\n",
       "      <td>0</td>\n",
       "      <td>36330</td>\n",
       "      <td>23608163.35</td>\n",
       "      <td>649.825581</td>\n",
       "    </tr>\n",
       "    <tr>\n",
       "      <th>1</th>\n",
       "      <td>1</td>\n",
       "      <td>84850</td>\n",
       "      <td>54984514.95</td>\n",
       "      <td>648.020212</td>\n",
       "    </tr>\n",
       "  </tbody>\n",
       "</table>\n",
       "</div>"
      ],
      "text/plain": [
       "   TRAIN   Cant   Cant_Exito  Tasa_Exito\n",
       "0      0  36330  23608163.35  649.825581\n",
       "1      1  84850  54984514.95  648.020212"
      ]
     },
     "execution_count": 231,
     "metadata": {},
     "output_type": "execute_result"
    }
   ],
   "source": [
    "# Cómo quedó la división??\n",
    "resumen = df.groupby('TRAIN').agg(      \n",
    "    Cant = ('Amount', 'count'),\n",
    "    Cant_Exito = ('Amount', 'sum'),    \n",
    "    Tasa_Exito = ('Amount', 'mean')\n",
    ").reset_index()\n",
    "resumen"
   ]
  },
  {
   "cell_type": "code",
   "execution_count": 233,
   "id": "3deff6c5-d40a-42a6-a44e-2de0c46acaea",
   "metadata": {},
   "outputs": [
    {
     "data": {
      "image/png": "[encoded data removed]",
      "text/plain": [
       "<Figure size 640x480 with 1 Axes>"
      ]
     },
     "metadata": {},
     "output_type": "display_data"
    }
   ],
   "source": [
    "cantidad = len(df['Amount'])\n",
    "\n",
    "sns.countplot(data = df,\n",
    "              x = \"TRAIN\")\n",
    "plt.xlabel('TRAIN / TEST')\n",
    "plt.ylabel('Cantidad de pasajeros')\n",
    "plt.title('Distribución de pasajeros en TRAIN y TEST')\n",
    "ax = plt.gca()\n",
    "for p in ax.patches:\n",
    "    x_text = p.get_x() + p.get_width() / 2.0 \n",
    "    y_text = p.get_height() \n",
    "    ax.text(x_text, y_text, f'{str(round(int(y_text)/cantidad,2) * 100)}%',  \n",
    "            ha = 'center',\n",
    "            va = 'bottom',\n",
    "            fontsize = 10, color = 'black', fontweight = 'bold')\n",
    "plt.show()"
   ]
  },
  {
   "cell_type": "code",
   "execution_count": 237,
   "id": "23b2f28e-816b-4bb4-bc94-c1b8d8340ea9",
   "metadata": {},
   "outputs": [
    {
     "name": "stdout",
     "output_type": "stream",
     "text": [
      "Mean Squared Error (MSE): 0.045320509172285466\n",
      "R-squared (R2): 0.001988890121609521\n"
     ]
    }
   ],
   "source": [
    "import numpy as np\n",
    "import pandas as pd\n",
    "from sklearn.model_selection import train_test_split\n",
    "from sklearn.linear_model import LinearRegression\n",
    "from sklearn.metrics import mean_squared_error, r2_score\n",
    "\n",
    "X = df[['Amount']]\n",
    "y = df['Qty']\n",
    "\n",
    "X_train, X_test, y_train, y_test = train_test_split(X, y, test_size=0.2, random_state=42)\n",
    "\n",
    "model = LinearRegression()\n",
    "\n",
    "model.fit(X_train, y_train)\n",
    "\n",
    "y_pred = model.predict(X_test)\n",
    "\n",
    "mse = mean_squared_error(y_test, y_pred)\n",
    "r2 = r2_score(y_test, y_pred)\n",
    "\n",
    "print(f'Mean Squared Error (MSE): {mse}')\n",
    "print(f'R-squared (R2): {r2}')"
   ]
  }
 ],
 "metadata": {
  "kernelspec": {
   "display_name": "Python 3 (ipykernel)",
   "language": "python",
   "name": "python3"
  },
  "language_info": {
   "codemirror_mode": {
    "name": "ipython",
    "version": 3
   },
   "file_extension": ".py",
   "mimetype": "text/x-python",
   "name": "python",
   "nbconvert_exporter": "python",
   "pygments_lexer": "ipython3",
   "version": "3.11.4"
  }
 },
 "nbformat": 4,
 "nbformat_minor": 5
}
