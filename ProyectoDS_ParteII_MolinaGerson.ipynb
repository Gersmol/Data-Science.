{
 "cells": [
  {
   "cell_type": "markdown",
   "metadata": {},
   "source": [
    "**ProyectoDS_ParteII** - Gerson Molina"
   ]
  },
  {
   "cell_type": "markdown",
   "metadata": {},
   "source": [
    "----------"
   ]
  },
  {
   "cell_type": "markdown",
   "metadata": {},
   "source": [
    "**1-OBJETIVO:**\n"
   ]
  },
  {
   "cell_type": "markdown",
   "metadata": {},
   "source": [
    "Pronosticar la evolución de las ventas en función del tiempo (meses)."
   ]
  },
  {
   "cell_type": "markdown",
   "metadata": {},
   "source": [
    "**2-CONTEXTO COMERCIAL:** "
   ]
  },
  {
   "cell_type": "markdown",
   "metadata": {},
   "source": [
    "Nos enfocaremos en preveer las ventas de indumentaria en el mercado Indio a través de la venta en línea de Amazon, teniendo en cuenta el factor estacional, geográfico y económico. Esto tendrá como objetivo desarrollar un pronóstico preciso que permita tomar decisiones comerciales fundamentadas."
   ]
  },
  {
   "cell_type": "markdown",
   "metadata": {},
   "source": [
    "**3-PROBLEMA COMERCIAL:**"
   ]
  },
  {
   "cell_type": "markdown",
   "metadata": {},
   "source": [
    "Este problema se centra en la necesidad de tomar decisiones estratégicas basadas en la previsión de ventas para optimizar la gestión de inventario, las estrategias de marketing y las promociones. Un modelo de pronóstico preciso permitirá adaptarse mejor a las fluctuaciones de la demanda y maximizar las ventas en el mercado en línea de la India a través de Amazon."
   ]
  },
  {
   "cell_type": "markdown",
   "metadata": {},
   "source": [
    "**4-CONTEXTO ANÁLITICO:**"
   ]
  },
  {
   "cell_type": "markdown",
   "metadata": {},
   "source": [
    "Las siguientes son las variables que tendremos en cuenta:"
   ]
  },
  {
   "cell_type": "markdown",
   "metadata": {},
   "source": [
    "1.ID\n",
    "2.ORDER ID: Nos indica el número de orden.\n",
    "3.DATE: Se refiere a la fecha en la cual fue realizada la Orden.\n",
    "4.STATUS: Hace referencia al status en el que se encuentra el pedido.\n",
    "5.FULFILMENT: El Medio por el cual se realizó la compra.\n",
    "6.SHIP SERVICE LEVEL: El nivel del servicio.\n",
    "7.STYLE: El estilo de la prenda.\n",
    "8.SKU: El código SKU del producto.\n",
    "9.CATEGORY: La categoría al cual pertenece el producto.\n",
    "10.SIZE: Talle del producto.\n",
    "11.COURIER STATUS: Estatus en el que se encuentra el  pedido.\n",
    "12.QTY: Cantidad del Producto por orden.\n",
    "13.CURRIENCE: Tipo de Moneda, en este caso expresada en INR.\n",
    "14.AMOUNT: Monto del producto.\n",
    "15.SHIP CITY: Ciudad de dónde sale el pedido.\n",
    "16.SHIP POSTAL CODE: Código Postal de la ciudad.\n",
    "17.SHIP COUNTRY: País de embarque.\n",
    "18.PROMOTION IDS: Código de Promoción si el producto fuere comprado con alguna.\n",
    "19.B2B: Si fue una compra business to business.\n",
    "20.FULFILLED BY: Por quien fue cumplido el pedido."
   ]
  },
  {
   "cell_type": "markdown",
   "metadata": {},
   "source": [
    "**5-VARIABLE TARGET:**"
   ]
  },
  {
   "cell_type": "markdown",
   "metadata": {},
   "source": [
    "Amount.\n"
   ]
  },
  {
   "cell_type": "markdown",
   "metadata": {},
   "source": [
    "**6-Exploración de los datos EDA:**"
   ]
  },
  {
   "cell_type": "code",
   "execution_count": 1,
   "metadata": {},
   "outputs": [],
   "source": [
    "import pandas as pd\n",
    "import numpy as np\n",
    "import matplotlib as mpl\n",
    "import matplotlib.pyplot as plt\n",
    "import seaborn as sns\n",
    "import os"
   ]
  },
  {
   "cell_type": "code",
   "execution_count": 4,
   "metadata": {},
   "outputs": [
    {
     "data": {
      "text/html": [
       "<div>\n",
       "<style scoped>\n",
       "    .dataframe tbody tr th:only-of-type {\n",
       "        vertical-align: middle;\n",
       "    }\n",
       "\n",
       "    .dataframe tbody tr th {\n",
       "        vertical-align: top;\n",
       "    }\n",
       "\n",
       "    .dataframe thead th {\n",
       "        text-align: right;\n",
       "    }\n",
       "</style>\n",
       "<table border=\"1\" class=\"dataframe\">\n",
       "  <thead>\n",
       "    <tr style=\"text-align: right;\">\n",
       "      <th></th>\n",
       "      <th>index</th>\n",
       "      <th>Order ID</th>\n",
       "      <th>Date</th>\n",
       "      <th>Status</th>\n",
       "      <th>Fulfilment</th>\n",
       "      <th>ship-service-level</th>\n",
       "      <th>Style</th>\n",
       "      <th>SKU</th>\n",
       "      <th>Category</th>\n",
       "      <th>Size</th>\n",
       "      <th>...</th>\n",
       "      <th>Qty</th>\n",
       "      <th>currency</th>\n",
       "      <th>Amount</th>\n",
       "      <th>ship-city</th>\n",
       "      <th>ship-state</th>\n",
       "      <th>ship-postal-code</th>\n",
       "      <th>ship-country</th>\n",
       "      <th>promotion-ids</th>\n",
       "      <th>B2B</th>\n",
       "      <th>fulfilled-by</th>\n",
       "    </tr>\n",
       "  </thead>\n",
       "  <tbody>\n",
       "    <tr>\n",
       "      <th>0</th>\n",
       "      <td>0</td>\n",
       "      <td>405-8078784-5731545</td>\n",
       "      <td>04-30-22</td>\n",
       "      <td>Cancelled</td>\n",
       "      <td>Merchant</td>\n",
       "      <td>Standard</td>\n",
       "      <td>SET389</td>\n",
       "      <td>SET389-KR-NP-S</td>\n",
       "      <td>Set</td>\n",
       "      <td>S</td>\n",
       "      <td>...</td>\n",
       "      <td>0</td>\n",
       "      <td>INR</td>\n",
       "      <td>647.62</td>\n",
       "      <td>MUMBAI</td>\n",
       "      <td>MAHARASHTRA</td>\n",
       "      <td>400081.0</td>\n",
       "      <td>IN</td>\n",
       "      <td>NaN</td>\n",
       "      <td>False</td>\n",
       "      <td>Easy Ship</td>\n",
       "    </tr>\n",
       "    <tr>\n",
       "      <th>1</th>\n",
       "      <td>1</td>\n",
       "      <td>171-9198151-1101146</td>\n",
       "      <td>04-30-22</td>\n",
       "      <td>Shipped</td>\n",
       "      <td>Merchant</td>\n",
       "      <td>Standard</td>\n",
       "      <td>JNE3781</td>\n",
       "      <td>JNE3781-KR-XXXL</td>\n",
       "      <td>kurta</td>\n",
       "      <td>3XL</td>\n",
       "      <td>...</td>\n",
       "      <td>1</td>\n",
       "      <td>INR</td>\n",
       "      <td>406.00</td>\n",
       "      <td>BENGALURU</td>\n",
       "      <td>KARNATAKA</td>\n",
       "      <td>560085.0</td>\n",
       "      <td>IN</td>\n",
       "      <td>Amazon PLCC Free-Financing Universal Merchant ...</td>\n",
       "      <td>False</td>\n",
       "      <td>Easy Ship</td>\n",
       "    </tr>\n",
       "    <tr>\n",
       "      <th>2</th>\n",
       "      <td>2</td>\n",
       "      <td>404-0687676-7273146</td>\n",
       "      <td>04-30-22</td>\n",
       "      <td>Shipped</td>\n",
       "      <td>Amazon</td>\n",
       "      <td>Expedited</td>\n",
       "      <td>JNE3371</td>\n",
       "      <td>JNE3371-KR-XL</td>\n",
       "      <td>kurta</td>\n",
       "      <td>XL</td>\n",
       "      <td>...</td>\n",
       "      <td>1</td>\n",
       "      <td>INR</td>\n",
       "      <td>329.00</td>\n",
       "      <td>NAVI MUMBAI</td>\n",
       "      <td>MAHARASHTRA</td>\n",
       "      <td>410210.0</td>\n",
       "      <td>IN</td>\n",
       "      <td>IN Core Free Shipping 2015/04/08 23-48-5-108</td>\n",
       "      <td>True</td>\n",
       "      <td>NaN</td>\n",
       "    </tr>\n",
       "    <tr>\n",
       "      <th>3</th>\n",
       "      <td>3</td>\n",
       "      <td>403-9615377-8133951</td>\n",
       "      <td>04-30-22</td>\n",
       "      <td>Cancelled</td>\n",
       "      <td>Merchant</td>\n",
       "      <td>Standard</td>\n",
       "      <td>J0341</td>\n",
       "      <td>J0341-DR-L</td>\n",
       "      <td>Western Dress</td>\n",
       "      <td>L</td>\n",
       "      <td>...</td>\n",
       "      <td>0</td>\n",
       "      <td>INR</td>\n",
       "      <td>753.33</td>\n",
       "      <td>PUDUCHERRY</td>\n",
       "      <td>PUDUCHERRY</td>\n",
       "      <td>605008.0</td>\n",
       "      <td>IN</td>\n",
       "      <td>NaN</td>\n",
       "      <td>False</td>\n",
       "      <td>Easy Ship</td>\n",
       "    </tr>\n",
       "    <tr>\n",
       "      <th>4</th>\n",
       "      <td>4</td>\n",
       "      <td>407-1069790-7240320</td>\n",
       "      <td>04-30-22</td>\n",
       "      <td>Shipped</td>\n",
       "      <td>Amazon</td>\n",
       "      <td>Expedited</td>\n",
       "      <td>JNE3671</td>\n",
       "      <td>JNE3671-TU-XXXL</td>\n",
       "      <td>Top</td>\n",
       "      <td>3XL</td>\n",
       "      <td>...</td>\n",
       "      <td>1</td>\n",
       "      <td>INR</td>\n",
       "      <td>574.00</td>\n",
       "      <td>CHENNAI</td>\n",
       "      <td>TAMIL NADU</td>\n",
       "      <td>600073.0</td>\n",
       "      <td>IN</td>\n",
       "      <td>NaN</td>\n",
       "      <td>False</td>\n",
       "      <td>NaN</td>\n",
       "    </tr>\n",
       "  </tbody>\n",
       "</table>\n",
       "<p>5 rows × 22 columns</p>\n",
       "</div>"
      ],
      "text/plain": [
       "   index             Order ID      Date     Status Fulfilment  \\\n",
       "0      0  405-8078784-5731545  04-30-22  Cancelled   Merchant   \n",
       "1      1  171-9198151-1101146  04-30-22    Shipped   Merchant   \n",
       "2      2  404-0687676-7273146  04-30-22    Shipped     Amazon   \n",
       "3      3  403-9615377-8133951  04-30-22  Cancelled   Merchant   \n",
       "4      4  407-1069790-7240320  04-30-22    Shipped     Amazon   \n",
       "\n",
       "  ship-service-level    Style              SKU       Category Size  ... Qty  \\\n",
       "0           Standard   SET389   SET389-KR-NP-S            Set    S  ...   0   \n",
       "1           Standard  JNE3781  JNE3781-KR-XXXL          kurta  3XL  ...   1   \n",
       "2          Expedited  JNE3371    JNE3371-KR-XL          kurta   XL  ...   1   \n",
       "3           Standard    J0341       J0341-DR-L  Western Dress    L  ...   0   \n",
       "4          Expedited  JNE3671  JNE3671-TU-XXXL            Top  3XL  ...   1   \n",
       "\n",
       "  currency  Amount    ship-city   ship-state ship-postal-code ship-country  \\\n",
       "0      INR  647.62       MUMBAI  MAHARASHTRA         400081.0           IN   \n",
       "1      INR  406.00    BENGALURU    KARNATAKA         560085.0           IN   \n",
       "2      INR  329.00  NAVI MUMBAI  MAHARASHTRA         410210.0           IN   \n",
       "3      INR  753.33   PUDUCHERRY   PUDUCHERRY         605008.0           IN   \n",
       "4      INR  574.00      CHENNAI   TAMIL NADU         600073.0           IN   \n",
       "\n",
       "                                       promotion-ids    B2B fulfilled-by  \n",
       "0                                                NaN  False    Easy Ship  \n",
       "1  Amazon PLCC Free-Financing Universal Merchant ...  False    Easy Ship  \n",
       "2       IN Core Free Shipping 2015/04/08 23-48-5-108   True          NaN  \n",
       "3                                                NaN  False    Easy Ship  \n",
       "4                                                NaN  False          NaN  \n",
       "\n",
       "[5 rows x 22 columns]"
      ]
     },
     "execution_count": 4,
     "metadata": {},
     "output_type": "execute_result"
    }
   ],
   "source": [
    "ruta = '/Users/Gerson/Desktop/Gerson Data Science'\n",
    "os.chdir(ruta)\n",
    "\n",
    "df = pd.read_excel(\"Amazon_Sales_Report.xlsx\")\n",
    "df.head()"
   ]
  },
  {
   "cell_type": "code",
   "execution_count": 6,
   "metadata": {},
   "outputs": [
    {
     "name": "stdout",
     "output_type": "stream",
     "text": [
      "<class 'pandas.core.frame.DataFrame'>\n",
      "RangeIndex: 128975 entries, 0 to 128974\n",
      "Data columns (total 22 columns):\n",
      " #   Column              Non-Null Count   Dtype  \n",
      "---  ------              --------------   -----  \n",
      " 0   index               128975 non-null  int64  \n",
      " 1   Order ID            128975 non-null  object \n",
      " 2   Date                128975 non-null  object \n",
      " 3   Status              128975 non-null  object \n",
      " 4   Fulfilment          128975 non-null  object \n",
      " 5   ship-service-level  128975 non-null  object \n",
      " 6   Style               128975 non-null  object \n",
      " 7   SKU                 128975 non-null  object \n",
      " 8   Category            128975 non-null  object \n",
      " 9   Size                128975 non-null  object \n",
      " 10  ASIN                128975 non-null  object \n",
      " 11  Courier Status      122103 non-null  object \n",
      " 12  Qty                 128975 non-null  int64  \n",
      " 13  currency            121180 non-null  object \n",
      " 14  Amount              121180 non-null  float64\n",
      " 15  ship-city           128942 non-null  object \n",
      " 16  ship-state          128935 non-null  object \n",
      " 17  ship-postal-code    128935 non-null  float64\n",
      " 18  ship-country        128935 non-null  object \n",
      " 19  promotion-ids       79815 non-null   object \n",
      " 20  B2B                 128968 non-null  object \n",
      " 21  fulfilled-by        39276 non-null   object \n",
      "dtypes: float64(2), int64(2), object(18)\n",
      "memory usage: 21.6+ MB\n"
     ]
    }
   ],
   "source": [
    "df.info()"
   ]
  },
  {
   "cell_type": "code",
   "execution_count": 22,
   "metadata": {},
   "outputs": [],
   "source": [
    "df['Courier Status'].fillna('No especificado', inplace=True)\n",
    "df['ship-city'].fillna('No especificado', inplace=True)\n",
    "df['ship-state'].fillna('No especificado', inplace=True)\n",
    "df['ship-country'].fillna('No especificado', inplace=True)\n",
    "df['promotion-ids'].fillna('No especificado', inplace=True)\n",
    "\n",
    "#Se eliminaron estas filas con valores nulos ya que no se consideraron indispensables para el análisis.\n",
    "df.dropna(subset=['currency', 'Amount'], inplace=True)\n",
    "\n",
    "#Se consideró llenar los valores nulos con la moda.\n",
    "mode_b2b = df['B2B'].mode()[0]\n",
    "df['B2B'].fillna(mode_b2b, inplace=True)\n",
    "mode_fulfilled_by = df['fulfilled-by'].mode()[0]\n",
    "df['fulfilled-by'].fillna(mode_fulfilled_by, inplace=True)"
   ]
  },
  {
   "cell_type": "markdown",
   "metadata": {},
   "source": [
    "Estadistica Variable Target."
   ]
  },
  {
   "cell_type": "code",
   "execution_count": 25,
   "metadata": {},
   "outputs": [
    {
     "data": {
      "text/plain": [
       "count    121180.0\n",
       "mean        649.0\n",
       "std         281.0\n",
       "min           0.0\n",
       "25%         449.0\n",
       "50%         605.0\n",
       "75%         788.0\n",
       "max        5584.0\n",
       "Name: Amount, dtype: float64"
      ]
     },
     "execution_count": 25,
     "metadata": {},
     "output_type": "execute_result"
    }
   ],
   "source": [
    "variable_target = df['Amount']\n",
    "variable_target.describe().round(0)"
   ]
  },
  {
   "cell_type": "markdown",
   "metadata": {},
   "source": [
    "Gráfico la variable target en un histograma "
   ]
  },
  {
   "cell_type": "code",
   "execution_count": 49,
   "metadata": {},
   "outputs": [
    {
     "data": {
      "text/plain": [
       "Text(0.5, 1.0, 'Distribución de Monto de Venta')"
      ]
     },
     "execution_count": 49,
     "metadata": {},
     "output_type": "execute_result"
    },
    {
     "data": {
      "image/png": "[encoded data removed]",
      "text/plain": [
       "<Figure size 640x480 with 1 Axes>"
      ]
     },
     "metadata": {},
     "output_type": "display_data"
    }
   ],
   "source": [
    "media = variable_target.mean()\n",
    "mediana = variable_target.median()\n",
    "primer_cuartil = variable_target.quantile(0.25)\n",
    "tercer_cuartil = variable_target.quantile(0.75)\n",
    "\n",
    "plt.figure()\n",
    "sns.histplot(data = df,\n",
    "             x = 'Amount',\n",
    "             bins = 30,            \n",
    "             alpha = 0.25,\n",
    "             kde = True,\n",
    "             stat='probability')\n",
    " \n",
    "plt.axvline(x = media, \n",
    "            color = 'red', \n",
    "            linestyle = '-', \n",
    "            label = 'Promedio',\n",
    "            linewidth = 3)\n",
    " \n",
    "plt.axvline(x = mediana, \n",
    "            color = '#11B613', \n",
    "            linestyle = '-', \n",
    "            label = 'Mediana',\n",
    "            linewidth = 3)\n",
    "\n",
    "plt.axvline(x = primer_cuartil, \n",
    "            color = 'black', \n",
    "            linestyle = '--', \n",
    "            label = 'Primer Cuartil',\n",
    "            linewidth = 2)\n",
    "\n",
    "plt.axvline(x = tercer_cuartil, \n",
    "            color = 'black', \n",
    "            linestyle = '--', \n",
    "            label = 'Tercer Cuartil',\n",
    "            linewidth = 2)\n",
    "\n",
    "plt.legend()\n",
    "\n",
    "plt.title('Distribución de Monto de Venta')"
   ]
  },
  {
   "cell_type": "code",
   "execution_count": 51,
   "metadata": {},
   "outputs": [
    {
     "name": "stderr",
     "output_type": "stream",
     "text": [
      "/Users/Gerson/Library/Python/3.12/lib/python/site-packages/pandas/core/arraylike.py:396: RuntimeWarning: divide by zero encountered in log\n",
      "  result = getattr(ufunc, method)(*inputs, **kwargs)\n"
     ]
    },
    {
     "data": {
      "text/plain": [
       "Text(0.5, 1.0, 'Distribución de Monto transformado a Logaritmo')"
      ]
     },
     "execution_count": 51,
     "metadata": {},
     "output_type": "execute_result"
    },
    {
     "data": {
      "image/png": "[encoded data removed]",
      "text/plain": [
       "<Figure size 640x480 with 1 Axes>"
      ]
     },
     "metadata": {},
     "output_type": "display_data"
    }
   ],
   "source": [
    "df['Amount_Log'] = np.log(df['Amount'])\n",
    "plt.figure()\n",
    "sns.histplot(data = df,\n",
    "             x = 'Amount_Log',\n",
    "             bins = 30,            \n",
    "             alpha = 0.25,\n",
    "             kde = True,\n",
    "             stat='probability',\n",
    "             color = '#B76BCB')\n",
    "plt.title('Distribución de Monto transformado a Logaritmo')"
   ]
  },
  {
   "cell_type": "code",
   "execution_count": 15,
   "metadata": {},
   "outputs": [
    {
     "data": {
      "text/plain": [
       "Category\n",
       "Set              47042\n",
       "kurta            46717\n",
       "Western Dress    14704\n",
       "Top              10165\n",
       "Ethnic Dress      1093\n",
       "Blouse             881\n",
       "Bottom             420\n",
       "Saree              155\n",
       "Dupatta              3\n",
       "Name: count, dtype: int64"
      ]
     },
     "execution_count": 15,
     "metadata": {},
     "output_type": "execute_result"
    }
   ],
   "source": [
    "ventas_categoria_producto = df['Category'].value_counts()\n",
    "ventas_categoria_producto"
   ]
  },
  {
   "cell_type": "code",
   "execution_count": 55,
   "metadata": {},
   "outputs": [
    {
     "data": {
      "text/html": [
       "<div>\n",
       "<style scoped>\n",
       "    .dataframe tbody tr th:only-of-type {\n",
       "        vertical-align: middle;\n",
       "    }\n",
       "\n",
       "    .dataframe tbody tr th {\n",
       "        vertical-align: top;\n",
       "    }\n",
       "\n",
       "    .dataframe thead th {\n",
       "        text-align: right;\n",
       "    }\n",
       "</style>\n",
       "<table border=\"1\" class=\"dataframe\">\n",
       "  <thead>\n",
       "    <tr style=\"text-align: right;\">\n",
       "      <th></th>\n",
       "      <th>Categoría de Producto</th>\n",
       "      <th>Monto Total</th>\n",
       "    </tr>\n",
       "  </thead>\n",
       "  <tbody>\n",
       "    <tr>\n",
       "      <th>0</th>\n",
       "      <td>Blouse</td>\n",
       "      <td>458408.18</td>\n",
       "    </tr>\n",
       "    <tr>\n",
       "      <th>1</th>\n",
       "      <td>Bottom</td>\n",
       "      <td>150667.98</td>\n",
       "    </tr>\n",
       "    <tr>\n",
       "      <th>2</th>\n",
       "      <td>Dupatta</td>\n",
       "      <td>915.00</td>\n",
       "    </tr>\n",
       "    <tr>\n",
       "      <th>3</th>\n",
       "      <td>Ethnic Dress</td>\n",
       "      <td>791217.66</td>\n",
       "    </tr>\n",
       "    <tr>\n",
       "      <th>4</th>\n",
       "      <td>Saree</td>\n",
       "      <td>123933.76</td>\n",
       "    </tr>\n",
       "    <tr>\n",
       "      <th>5</th>\n",
       "      <td>Set</td>\n",
       "      <td>39204124.03</td>\n",
       "    </tr>\n",
       "    <tr>\n",
       "      <th>6</th>\n",
       "      <td>Top</td>\n",
       "      <td>5347792.30</td>\n",
       "    </tr>\n",
       "    <tr>\n",
       "      <th>7</th>\n",
       "      <td>Western Dress</td>\n",
       "      <td>11216072.69</td>\n",
       "    </tr>\n",
       "    <tr>\n",
       "      <th>8</th>\n",
       "      <td>kurta</td>\n",
       "      <td>21299546.70</td>\n",
       "    </tr>\n",
       "  </tbody>\n",
       "</table>\n",
       "</div>"
      ],
      "text/plain": [
       "  Categoría de Producto  Monto Total\n",
       "0                Blouse    458408.18\n",
       "1                Bottom    150667.98\n",
       "2               Dupatta       915.00\n",
       "3          Ethnic Dress    791217.66\n",
       "4                 Saree    123933.76\n",
       "5                   Set  39204124.03\n",
       "6                   Top   5347792.30\n",
       "7         Western Dress  11216072.69\n",
       "8                 kurta  21299546.70"
      ]
     },
     "execution_count": 55,
     "metadata": {},
     "output_type": "execute_result"
    }
   ],
   "source": [
    "\n",
    "total_categoria = df.groupby('Category')['Amount'].sum().reset_index()\n",
    "total_categoria.columns = ['Categoría de Producto', 'Monto Total']\n",
    "total_categoria\n"
   ]
  }
 ],
 "metadata": {
  "kernelspec": {
   "display_name": "Python 3",
   "language": "python",
   "name": "python3"
  },
  "language_info": {
   "codemirror_mode": {
    "name": "ipython",
    "version": 3
   },
   "file_extension": ".py",
   "mimetype": "text/x-python",
   "name": "python",
   "nbconvert_exporter": "python",
   "pygments_lexer": "ipython3",
   "version": "3.12.0"
  }
 },
 "nbformat": 4,
 "nbformat_minor": 2
}
