{
 "cells": [
  {
   "cell_type": "markdown",
   "metadata": {},
   "source": [
    "*DATA WRANGLING* - Gerson Molina.\n",
    "---------------------------------"
   ]
  },
  {
   "cell_type": "code",
   "execution_count": 3,
   "metadata": {},
   "outputs": [],
   "source": [
    "import pandas as pd\n",
    "import numpy as np\n",
    "import matplotlib as mpl\n",
    "import matplotlib.pyplot as plt\n",
    "import seaborn as sns\n",
    "from sklearn.impute import SimpleImputer\n",
    "import os"
   ]
  },
  {
   "cell_type": "code",
   "execution_count": 4,
   "metadata": {},
   "outputs": [],
   "source": [
    "ruta = '/Users/gersonmolina/Desktop/Data Sciencie'\n",
    "os.chdir(ruta)\n",
    "\n",
    "df = pd.read_excel(\"Amazon_Sales_Report.xlsx\")"
   ]
  },
  {
   "cell_type": "code",
   "execution_count": 5,
   "metadata": {},
   "outputs": [
    {
     "data": {
      "text/html": [
       "<div>\n",
       "<style scoped>\n",
       "    .dataframe tbody tr th:only-of-type {\n",
       "        vertical-align: middle;\n",
       "    }\n",
       "\n",
       "    .dataframe tbody tr th {\n",
       "        vertical-align: top;\n",
       "    }\n",
       "\n",
       "    .dataframe thead th {\n",
       "        text-align: right;\n",
       "    }\n",
       "</style>\n",
       "<table border=\"1\" class=\"dataframe\">\n",
       "  <thead>\n",
       "    <tr style=\"text-align: right;\">\n",
       "      <th></th>\n",
       "      <th>index</th>\n",
       "      <th>Order ID</th>\n",
       "      <th>Date</th>\n",
       "      <th>Status</th>\n",
       "      <th>Fulfilment</th>\n",
       "      <th>ship-service-level</th>\n",
       "      <th>Style</th>\n",
       "      <th>SKU</th>\n",
       "      <th>Category</th>\n",
       "      <th>Size</th>\n",
       "      <th>...</th>\n",
       "      <th>Qty</th>\n",
       "      <th>currency</th>\n",
       "      <th>Amount</th>\n",
       "      <th>ship-city</th>\n",
       "      <th>ship-state</th>\n",
       "      <th>ship-postal-code</th>\n",
       "      <th>ship-country</th>\n",
       "      <th>promotion-ids</th>\n",
       "      <th>B2B</th>\n",
       "      <th>fulfilled-by</th>\n",
       "    </tr>\n",
       "  </thead>\n",
       "  <tbody>\n",
       "    <tr>\n",
       "      <th>0</th>\n",
       "      <td>0</td>\n",
       "      <td>405-8078784-5731545</td>\n",
       "      <td>04-30-22</td>\n",
       "      <td>Cancelled</td>\n",
       "      <td>Merchant</td>\n",
       "      <td>Standard</td>\n",
       "      <td>SET389</td>\n",
       "      <td>SET389-KR-NP-S</td>\n",
       "      <td>Set</td>\n",
       "      <td>S</td>\n",
       "      <td>...</td>\n",
       "      <td>0</td>\n",
       "      <td>INR</td>\n",
       "      <td>647.62</td>\n",
       "      <td>MUMBAI</td>\n",
       "      <td>MAHARASHTRA</td>\n",
       "      <td>400081.0</td>\n",
       "      <td>IN</td>\n",
       "      <td>NaN</td>\n",
       "      <td>False</td>\n",
       "      <td>Easy Ship</td>\n",
       "    </tr>\n",
       "    <tr>\n",
       "      <th>1</th>\n",
       "      <td>1</td>\n",
       "      <td>171-9198151-1101146</td>\n",
       "      <td>04-30-22</td>\n",
       "      <td>Shipped</td>\n",
       "      <td>Merchant</td>\n",
       "      <td>Standard</td>\n",
       "      <td>JNE3781</td>\n",
       "      <td>JNE3781-KR-XXXL</td>\n",
       "      <td>kurta</td>\n",
       "      <td>3XL</td>\n",
       "      <td>...</td>\n",
       "      <td>1</td>\n",
       "      <td>INR</td>\n",
       "      <td>406.00</td>\n",
       "      <td>BENGALURU</td>\n",
       "      <td>KARNATAKA</td>\n",
       "      <td>560085.0</td>\n",
       "      <td>IN</td>\n",
       "      <td>Amazon PLCC Free-Financing Universal Merchant ...</td>\n",
       "      <td>False</td>\n",
       "      <td>Easy Ship</td>\n",
       "    </tr>\n",
       "    <tr>\n",
       "      <th>2</th>\n",
       "      <td>2</td>\n",
       "      <td>404-0687676-7273146</td>\n",
       "      <td>04-30-22</td>\n",
       "      <td>Shipped</td>\n",
       "      <td>Amazon</td>\n",
       "      <td>Expedited</td>\n",
       "      <td>JNE3371</td>\n",
       "      <td>JNE3371-KR-XL</td>\n",
       "      <td>kurta</td>\n",
       "      <td>XL</td>\n",
       "      <td>...</td>\n",
       "      <td>1</td>\n",
       "      <td>INR</td>\n",
       "      <td>329.00</td>\n",
       "      <td>NAVI MUMBAI</td>\n",
       "      <td>MAHARASHTRA</td>\n",
       "      <td>410210.0</td>\n",
       "      <td>IN</td>\n",
       "      <td>IN Core Free Shipping 2015/04/08 23-48-5-108</td>\n",
       "      <td>True</td>\n",
       "      <td>NaN</td>\n",
       "    </tr>\n",
       "    <tr>\n",
       "      <th>3</th>\n",
       "      <td>3</td>\n",
       "      <td>403-9615377-8133951</td>\n",
       "      <td>04-30-22</td>\n",
       "      <td>Cancelled</td>\n",
       "      <td>Merchant</td>\n",
       "      <td>Standard</td>\n",
       "      <td>J0341</td>\n",
       "      <td>J0341-DR-L</td>\n",
       "      <td>Western Dress</td>\n",
       "      <td>L</td>\n",
       "      <td>...</td>\n",
       "      <td>0</td>\n",
       "      <td>INR</td>\n",
       "      <td>753.33</td>\n",
       "      <td>PUDUCHERRY</td>\n",
       "      <td>PUDUCHERRY</td>\n",
       "      <td>605008.0</td>\n",
       "      <td>IN</td>\n",
       "      <td>NaN</td>\n",
       "      <td>False</td>\n",
       "      <td>Easy Ship</td>\n",
       "    </tr>\n",
       "    <tr>\n",
       "      <th>4</th>\n",
       "      <td>4</td>\n",
       "      <td>407-1069790-7240320</td>\n",
       "      <td>04-30-22</td>\n",
       "      <td>Shipped</td>\n",
       "      <td>Amazon</td>\n",
       "      <td>Expedited</td>\n",
       "      <td>JNE3671</td>\n",
       "      <td>JNE3671-TU-XXXL</td>\n",
       "      <td>Top</td>\n",
       "      <td>3XL</td>\n",
       "      <td>...</td>\n",
       "      <td>1</td>\n",
       "      <td>INR</td>\n",
       "      <td>574.00</td>\n",
       "      <td>CHENNAI</td>\n",
       "      <td>TAMIL NADU</td>\n",
       "      <td>600073.0</td>\n",
       "      <td>IN</td>\n",
       "      <td>NaN</td>\n",
       "      <td>False</td>\n",
       "      <td>NaN</td>\n",
       "    </tr>\n",
       "  </tbody>\n",
       "</table>\n",
       "<p>5 rows × 22 columns</p>\n",
       "</div>"
      ],
      "text/plain": [
       "   index             Order ID      Date     Status Fulfilment  \\\n",
       "0      0  405-8078784-5731545  04-30-22  Cancelled   Merchant   \n",
       "1      1  171-9198151-1101146  04-30-22    Shipped   Merchant   \n",
       "2      2  404-0687676-7273146  04-30-22    Shipped     Amazon   \n",
       "3      3  403-9615377-8133951  04-30-22  Cancelled   Merchant   \n",
       "4      4  407-1069790-7240320  04-30-22    Shipped     Amazon   \n",
       "\n",
       "  ship-service-level    Style              SKU       Category Size  ... Qty  \\\n",
       "0           Standard   SET389   SET389-KR-NP-S            Set    S  ...   0   \n",
       "1           Standard  JNE3781  JNE3781-KR-XXXL          kurta  3XL  ...   1   \n",
       "2          Expedited  JNE3371    JNE3371-KR-XL          kurta   XL  ...   1   \n",
       "3           Standard    J0341       J0341-DR-L  Western Dress    L  ...   0   \n",
       "4          Expedited  JNE3671  JNE3671-TU-XXXL            Top  3XL  ...   1   \n",
       "\n",
       "  currency  Amount    ship-city   ship-state ship-postal-code ship-country  \\\n",
       "0      INR  647.62       MUMBAI  MAHARASHTRA         400081.0           IN   \n",
       "1      INR  406.00    BENGALURU    KARNATAKA         560085.0           IN   \n",
       "2      INR  329.00  NAVI MUMBAI  MAHARASHTRA         410210.0           IN   \n",
       "3      INR  753.33   PUDUCHERRY   PUDUCHERRY         605008.0           IN   \n",
       "4      INR  574.00      CHENNAI   TAMIL NADU         600073.0           IN   \n",
       "\n",
       "                                       promotion-ids    B2B fulfilled-by  \n",
       "0                                                NaN  False    Easy Ship  \n",
       "1  Amazon PLCC Free-Financing Universal Merchant ...  False    Easy Ship  \n",
       "2       IN Core Free Shipping 2015/04/08 23-48-5-108   True          NaN  \n",
       "3                                                NaN  False    Easy Ship  \n",
       "4                                                NaN  False          NaN  \n",
       "\n",
       "[5 rows x 22 columns]"
      ]
     },
     "execution_count": 5,
     "metadata": {},
     "output_type": "execute_result"
    }
   ],
   "source": [
    "df.head()"
   ]
  },
  {
   "cell_type": "markdown",
   "metadata": {},
   "source": [
    "*Comenzamos con la exploración y la toma de decisiones de los datos:*"
   ]
  },
  {
   "cell_type": "code",
   "execution_count": 6,
   "metadata": {},
   "outputs": [
    {
     "data": {
      "text/plain": [
       "False    128975\n",
       "Name: count, dtype: int64"
      ]
     },
     "execution_count": 6,
     "metadata": {},
     "output_type": "execute_result"
    }
   ],
   "source": [
    "#Exploramos valores duplicados.\n",
    "\n",
    "df.duplicated().value_counts()"
   ]
  },
  {
   "cell_type": "code",
   "execution_count": 7,
   "metadata": {},
   "outputs": [
    {
     "data": {
      "text/html": [
       "<div>\n",
       "<style scoped>\n",
       "    .dataframe tbody tr th:only-of-type {\n",
       "        vertical-align: middle;\n",
       "    }\n",
       "\n",
       "    .dataframe tbody tr th {\n",
       "        vertical-align: top;\n",
       "    }\n",
       "\n",
       "    .dataframe thead th {\n",
       "        text-align: right;\n",
       "    }\n",
       "</style>\n",
       "<table border=\"1\" class=\"dataframe\">\n",
       "  <thead>\n",
       "    <tr style=\"text-align: right;\">\n",
       "      <th></th>\n",
       "      <th>Cant_Nulos</th>\n",
       "      <th>Pct_Nulos</th>\n",
       "    </tr>\n",
       "  </thead>\n",
       "  <tbody>\n",
       "    <tr>\n",
       "      <th>fulfilled-by</th>\n",
       "      <td>89699</td>\n",
       "      <td>0.695476</td>\n",
       "    </tr>\n",
       "    <tr>\n",
       "      <th>promotion-ids</th>\n",
       "      <td>49160</td>\n",
       "      <td>0.381159</td>\n",
       "    </tr>\n",
       "    <tr>\n",
       "      <th>currency</th>\n",
       "      <td>7795</td>\n",
       "      <td>0.060438</td>\n",
       "    </tr>\n",
       "    <tr>\n",
       "      <th>Amount</th>\n",
       "      <td>7795</td>\n",
       "      <td>0.060438</td>\n",
       "    </tr>\n",
       "    <tr>\n",
       "      <th>Courier Status</th>\n",
       "      <td>6872</td>\n",
       "      <td>0.053282</td>\n",
       "    </tr>\n",
       "    <tr>\n",
       "      <th>ship-state</th>\n",
       "      <td>40</td>\n",
       "      <td>0.000310</td>\n",
       "    </tr>\n",
       "    <tr>\n",
       "      <th>ship-postal-code</th>\n",
       "      <td>40</td>\n",
       "      <td>0.000310</td>\n",
       "    </tr>\n",
       "    <tr>\n",
       "      <th>ship-country</th>\n",
       "      <td>40</td>\n",
       "      <td>0.000310</td>\n",
       "    </tr>\n",
       "    <tr>\n",
       "      <th>ship-city</th>\n",
       "      <td>33</td>\n",
       "      <td>0.000256</td>\n",
       "    </tr>\n",
       "    <tr>\n",
       "      <th>B2B</th>\n",
       "      <td>7</td>\n",
       "      <td>0.000054</td>\n",
       "    </tr>\n",
       "  </tbody>\n",
       "</table>\n",
       "</div>"
      ],
      "text/plain": [
       "                  Cant_Nulos  Pct_Nulos\n",
       "fulfilled-by           89699   0.695476\n",
       "promotion-ids          49160   0.381159\n",
       "currency                7795   0.060438\n",
       "Amount                  7795   0.060438\n",
       "Courier Status          6872   0.053282\n",
       "ship-state                40   0.000310\n",
       "ship-postal-code          40   0.000310\n",
       "ship-country              40   0.000310\n",
       "ship-city                 33   0.000256\n",
       "B2B                        7   0.000054"
      ]
     },
     "execution_count": 7,
     "metadata": {},
     "output_type": "execute_result"
    }
   ],
   "source": [
    "# Columnas nulos\n",
    "nulos = df.isnull().sum()\n",
    "nulos_pct = nulos / df.shape[0]\n",
    "nulos_resumen = pd.DataFrame({'Cant_Nulos': nulos, 'Pct_Nulos': nulos_pct})\n",
    "nulos_resumen = nulos_resumen.loc[nulos_resumen['Cant_Nulos'] > 0, :]\n",
    "nulos_resumen = nulos_resumen.sort_values(by='Cant_Nulos', ascending=False)\n",
    "nulos_resumen"
   ]
  },
  {
   "cell_type": "code",
   "execution_count": 8,
   "metadata": {},
   "outputs": [
    {
     "data": {
      "image/png": "[encoded data removed]",
      "text/plain": [
       "<Figure size 1000x600 with 1 Axes>"
      ]
     },
     "metadata": {},
     "output_type": "display_data"
    }
   ],
   "source": [
    "# Graficamos para obteer una mejor visualización de aquellos datos de columnas vacías:\n",
    " \n",
    "plt.figure(figsize=(10,6))\n",
    "plt.barh(nulos_resumen.index, \n",
    "         nulos_resumen['Cant_Nulos'],\n",
    "         color = '#E70260')\n",
    "plt.xlabel('Cantidad de registros vacíos')\n",
    "plt.gca().invert_yaxis()  \n",
    "plt.show()"
   ]
  },
  {
   "cell_type": "markdown",
   "metadata": {},
   "source": [
    "Despues de la exploración de los datos procedemos a tomar decisiones:"
   ]
  },
  {
   "cell_type": "code",
   "execution_count": 9,
   "metadata": {},
   "outputs": [
    {
     "name": "stderr",
     "output_type": "stream",
     "text": [
      "/var/folders/k6/32q21m0s1h9d2qyd_07__f4r0000gn/T/ipykernel_24273/4152851788.py:6: FutureWarning: Setting an item of incompatible dtype is deprecated and will raise in a future error of pandas. Value 'No especificado' has dtype incompatible with float64, please explicitly cast to a compatible dtype first.\n",
      "  df['ship-postal-code'].fillna('No especificado', inplace=True)\n"
     ]
    }
   ],
   "source": [
    "#Llenamos los valores nulos con la sintaxis 'No especificado'.\n",
    "\n",
    "df['Courier Status'].fillna('No especificado', inplace=True)\n",
    "df['ship-city'].fillna('No especificado', inplace=True)\n",
    "df['ship-state'].fillna('No especificado', inplace=True)\n",
    "df['ship-postal-code'].fillna('No especificado', inplace=True)\n",
    "df['ship-country'].fillna('No especificado', inplace=True)\n",
    "df['promotion-ids'].fillna('No especificado', inplace=True)"
   ]
  },
  {
   "cell_type": "code",
   "execution_count": 10,
   "metadata": {},
   "outputs": [],
   "source": [
    "#Se eliminaron estas filas con valores nulos ya que no se consideraron indispensables para el análisis.\n",
    "\n",
    "df.dropna(subset=['currency', 'Amount'], inplace=True)"
   ]
  },
  {
   "cell_type": "code",
   "execution_count": 13,
   "metadata": {},
   "outputs": [],
   "source": [
    "#Imputamos las variables B2b y fulfilled-by con el método sklearn.\n",
    "\n",
    "valores_faltantes_columnas = [\"B2B\", \"fulfilled-by\"]\n",
    "datos_faltantes = df[valores_faltantes_columnas].isnull()"
   ]
  },
  {
   "cell_type": "code",
   "execution_count": 14,
   "metadata": {},
   "outputs": [],
   "source": [
    "#Creamos un imputador que reemplace los valores faltantes con la categoría más frecuente.\n",
    "\n",
    "imputer = SimpleImputer(strategy='most_frequent')"
   ]
  },
  {
   "cell_type": "code",
   "execution_count": 15,
   "metadata": {},
   "outputs": [],
   "source": [
    "# Realizamos la imputación solo en las columnas seleccionadas\n",
    "\n",
    "df[valores_faltantes_columnas] = imputer.fit_transform(df[valores_faltantes_columnas])"
   ]
  },
  {
   "cell_type": "markdown",
   "metadata": {},
   "source": [
    "Verificamos que efectivamente se hayan realizado los cambios que hicimos en la toma de decisiones y no existan valores nulos."
   ]
  },
  {
   "cell_type": "code",
   "execution_count": 17,
   "metadata": {},
   "outputs": [
    {
     "name": "stdout",
     "output_type": "stream",
     "text": [
      "<class 'pandas.core.frame.DataFrame'>\n",
      "Index: 121180 entries, 0 to 128974\n",
      "Data columns (total 22 columns):\n",
      " #   Column              Non-Null Count   Dtype  \n",
      "---  ------              --------------   -----  \n",
      " 0   index               121180 non-null  int64  \n",
      " 1   Order ID            121180 non-null  object \n",
      " 2   Date                121180 non-null  object \n",
      " 3   Status              121180 non-null  object \n",
      " 4   Fulfilment          121180 non-null  object \n",
      " 5   ship-service-level  121180 non-null  object \n",
      " 6   Style               121180 non-null  object \n",
      " 7   SKU                 121180 non-null  object \n",
      " 8   Category            121180 non-null  object \n",
      " 9   Size                121180 non-null  object \n",
      " 10  ASIN                121180 non-null  object \n",
      " 11  Courier Status      121180 non-null  object \n",
      " 12  Qty                 121180 non-null  int64  \n",
      " 13  currency            121180 non-null  object \n",
      " 14  Amount              121180 non-null  float64\n",
      " 15  ship-city           121180 non-null  object \n",
      " 16  ship-state          121180 non-null  object \n",
      " 17  ship-postal-code    121180 non-null  object \n",
      " 18  ship-country        121180 non-null  object \n",
      " 19  promotion-ids       121180 non-null  object \n",
      " 20  B2B                 121180 non-null  object \n",
      " 21  fulfilled-by        121180 non-null  object \n",
      "dtypes: float64(1), int64(2), object(19)\n",
      "memory usage: 21.3+ MB\n"
     ]
    }
   ],
   "source": [
    "df.info()"
   ]
  }
 ],
 "metadata": {
  "kernelspec": {
   "display_name": "Python 3",
   "language": "python",
   "name": "python3"
  },
  "language_info": {
   "codemirror_mode": {
    "name": "ipython",
    "version": 3
   },
   "file_extension": ".py",
   "mimetype": "text/x-python",
   "name": "python",
   "nbconvert_exporter": "python",
   "pygments_lexer": "ipython3",
   "version": "3.12.0"
  }
 },
 "nbformat": 4,
 "nbformat_minor": 2
}
