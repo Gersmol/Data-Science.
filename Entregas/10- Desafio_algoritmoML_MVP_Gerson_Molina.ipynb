{
 "cells": [
  {
   "cell_type": "code",
   "execution_count": 1,
   "metadata": {},
   "outputs": [],
   "source": [
    "import pandas as pd\n",
    "import numpy as np\n",
    "import matplotlib as mpl\n",
    "import matplotlib.pyplot as plt\n",
    "import seaborn as sns\n",
    "from sklearn.impute import SimpleImputer\n",
    "from sklearn.linear_model import LinearRegression\n",
    "import os\n",
    "import datetime as dt\n",
    "import seaborn as sns\n",
    "import matplotlib.ticker as ticker\n",
    "from sklearn.preprocessing import OneHotEncoder\n",
    "from sklearn.preprocessing import OrdinalEncoder\n",
    "from category_encoders import BinaryEncoder\n",
    "from category_encoders import HashingEncoder\n",
    "# Libreria para estimar regresión\n",
    "import statsmodels.formula.api as sm\n",
    "# Libreria para PCA\n",
    "from sklearn.decomposition import PCA\n",
    "from sklearn.preprocessing import StandardScaler\n",
    "sns.set_style('whitegrid')\n",
    "\n",
    "sns.set(style=\"darkgrid\")\n",
    "dark_palette = sns.dark_palette(\"#d90429\", as_cmap=True)"
   ]
  },
  {
   "cell_type": "code",
   "execution_count": 2,
   "metadata": {},
   "outputs": [],
   "source": [
    "ruta = '/Users/Gerson/Desktop/Data-Science.'\n",
    "os.chdir(ruta)\n",
    "\n",
    "df = pd.read_excel(\"Amazon_Sales_Report.xlsx\")"
   ]
  },
  {
   "cell_type": "code",
   "execution_count": 30,
   "metadata": {},
   "outputs": [
    {
     "data": {
      "text/html": [
       "<div>\n",
       "<style scoped>\n",
       "    .dataframe tbody tr th:only-of-type {\n",
       "        vertical-align: middle;\n",
       "    }\n",
       "\n",
       "    .dataframe tbody tr th {\n",
       "        vertical-align: top;\n",
       "    }\n",
       "\n",
       "    .dataframe thead th {\n",
       "        text-align: right;\n",
       "    }\n",
       "</style>\n",
       "<table border=\"1\" class=\"dataframe\">\n",
       "  <thead>\n",
       "    <tr style=\"text-align: right;\">\n",
       "      <th></th>\n",
       "      <th>index</th>\n",
       "      <th>Order ID</th>\n",
       "      <th>Date</th>\n",
       "      <th>Status</th>\n",
       "      <th>Fulfilment</th>\n",
       "      <th>ship-service-level</th>\n",
       "      <th>Style</th>\n",
       "      <th>SKU</th>\n",
       "      <th>Category</th>\n",
       "      <th>Size</th>\n",
       "      <th>...</th>\n",
       "      <th>ship-city</th>\n",
       "      <th>ship-state</th>\n",
       "      <th>ship-postal-code</th>\n",
       "      <th>ship-country</th>\n",
       "      <th>promotion-ids</th>\n",
       "      <th>B2B</th>\n",
       "      <th>fulfilled-by</th>\n",
       "      <th>monto total</th>\n",
       "      <th>Precio Promedio</th>\n",
       "      <th>Fulfilment-encoded</th>\n",
       "    </tr>\n",
       "  </thead>\n",
       "  <tbody>\n",
       "    <tr>\n",
       "      <th>0</th>\n",
       "      <td>0</td>\n",
       "      <td>40580787845731545</td>\n",
       "      <td>2022-04-30</td>\n",
       "      <td>Cancelled</td>\n",
       "      <td>Merchant</td>\n",
       "      <td>Standard</td>\n",
       "      <td>SET389</td>\n",
       "      <td>SET389-KR-NP-S</td>\n",
       "      <td>Set</td>\n",
       "      <td>S</td>\n",
       "      <td>...</td>\n",
       "      <td>MUMBAI</td>\n",
       "      <td>MAHARASHTRA</td>\n",
       "      <td>400081.0</td>\n",
       "      <td>IN</td>\n",
       "      <td>No especificado</td>\n",
       "      <td>False</td>\n",
       "      <td>Easy Ship</td>\n",
       "      <td>0.0</td>\n",
       "      <td>inf</td>\n",
       "      <td>1.0</td>\n",
       "    </tr>\n",
       "    <tr>\n",
       "      <th>1</th>\n",
       "      <td>1</td>\n",
       "      <td>17191981511101146</td>\n",
       "      <td>2022-04-30</td>\n",
       "      <td>Shipped</td>\n",
       "      <td>Merchant</td>\n",
       "      <td>Standard</td>\n",
       "      <td>JNE3781</td>\n",
       "      <td>JNE3781-KR-XXXL</td>\n",
       "      <td>kurta</td>\n",
       "      <td>3XL</td>\n",
       "      <td>...</td>\n",
       "      <td>BENGALURU</td>\n",
       "      <td>KARNATAKA</td>\n",
       "      <td>560085.0</td>\n",
       "      <td>IN</td>\n",
       "      <td>Amazon PLCC Free-Financing Universal Merchant ...</td>\n",
       "      <td>False</td>\n",
       "      <td>Easy Ship</td>\n",
       "      <td>406.0</td>\n",
       "      <td>406.0</td>\n",
       "      <td>1.0</td>\n",
       "    </tr>\n",
       "    <tr>\n",
       "      <th>2</th>\n",
       "      <td>2</td>\n",
       "      <td>40406876767273146</td>\n",
       "      <td>2022-04-30</td>\n",
       "      <td>Shipped</td>\n",
       "      <td>Amazon</td>\n",
       "      <td>Expedited</td>\n",
       "      <td>JNE3371</td>\n",
       "      <td>JNE3371-KR-XL</td>\n",
       "      <td>kurta</td>\n",
       "      <td>XL</td>\n",
       "      <td>...</td>\n",
       "      <td>NAVI MUMBAI</td>\n",
       "      <td>MAHARASHTRA</td>\n",
       "      <td>410210.0</td>\n",
       "      <td>IN</td>\n",
       "      <td>IN Core Free Shipping 2015/04/08 23-48-5-108</td>\n",
       "      <td>True</td>\n",
       "      <td>Easy Ship</td>\n",
       "      <td>329.0</td>\n",
       "      <td>329.0</td>\n",
       "      <td>0.0</td>\n",
       "    </tr>\n",
       "    <tr>\n",
       "      <th>3</th>\n",
       "      <td>3</td>\n",
       "      <td>40396153778133951</td>\n",
       "      <td>2022-04-30</td>\n",
       "      <td>Cancelled</td>\n",
       "      <td>Merchant</td>\n",
       "      <td>Standard</td>\n",
       "      <td>J0341</td>\n",
       "      <td>J0341-DR-L</td>\n",
       "      <td>Western Dress</td>\n",
       "      <td>L</td>\n",
       "      <td>...</td>\n",
       "      <td>PUDUCHERRY</td>\n",
       "      <td>PUDUCHERRY</td>\n",
       "      <td>605008.0</td>\n",
       "      <td>IN</td>\n",
       "      <td>No especificado</td>\n",
       "      <td>False</td>\n",
       "      <td>Easy Ship</td>\n",
       "      <td>0.0</td>\n",
       "      <td>inf</td>\n",
       "      <td>1.0</td>\n",
       "    </tr>\n",
       "    <tr>\n",
       "      <th>4</th>\n",
       "      <td>4</td>\n",
       "      <td>40710697907240320</td>\n",
       "      <td>2022-04-30</td>\n",
       "      <td>Shipped</td>\n",
       "      <td>Amazon</td>\n",
       "      <td>Expedited</td>\n",
       "      <td>JNE3671</td>\n",
       "      <td>JNE3671-TU-XXXL</td>\n",
       "      <td>Top</td>\n",
       "      <td>3XL</td>\n",
       "      <td>...</td>\n",
       "      <td>CHENNAI</td>\n",
       "      <td>TAMIL NADU</td>\n",
       "      <td>600073.0</td>\n",
       "      <td>IN</td>\n",
       "      <td>No especificado</td>\n",
       "      <td>False</td>\n",
       "      <td>Easy Ship</td>\n",
       "      <td>574.0</td>\n",
       "      <td>574.0</td>\n",
       "      <td>0.0</td>\n",
       "    </tr>\n",
       "  </tbody>\n",
       "</table>\n",
       "<p>5 rows × 25 columns</p>\n",
       "</div>"
      ],
      "text/plain": [
       "   index           Order ID       Date     Status Fulfilment  \\\n",
       "0      0  40580787845731545 2022-04-30  Cancelled   Merchant   \n",
       "1      1  17191981511101146 2022-04-30    Shipped   Merchant   \n",
       "2      2  40406876767273146 2022-04-30    Shipped     Amazon   \n",
       "3      3  40396153778133951 2022-04-30  Cancelled   Merchant   \n",
       "4      4  40710697907240320 2022-04-30    Shipped     Amazon   \n",
       "\n",
       "  ship-service-level    Style              SKU       Category Size  ...  \\\n",
       "0           Standard   SET389   SET389-KR-NP-S            Set    S  ...   \n",
       "1           Standard  JNE3781  JNE3781-KR-XXXL          kurta  3XL  ...   \n",
       "2          Expedited  JNE3371    JNE3371-KR-XL          kurta   XL  ...   \n",
       "3           Standard    J0341       J0341-DR-L  Western Dress    L  ...   \n",
       "4          Expedited  JNE3671  JNE3671-TU-XXXL            Top  3XL  ...   \n",
       "\n",
       "     ship-city   ship-state  ship-postal-code ship-country  \\\n",
       "0       MUMBAI  MAHARASHTRA          400081.0           IN   \n",
       "1    BENGALURU    KARNATAKA          560085.0           IN   \n",
       "2  NAVI MUMBAI  MAHARASHTRA          410210.0           IN   \n",
       "3   PUDUCHERRY   PUDUCHERRY          605008.0           IN   \n",
       "4      CHENNAI   TAMIL NADU          600073.0           IN   \n",
       "\n",
       "                                       promotion-ids    B2B fulfilled-by  \\\n",
       "0                                    No especificado  False    Easy Ship   \n",
       "1  Amazon PLCC Free-Financing Universal Merchant ...  False    Easy Ship   \n",
       "2       IN Core Free Shipping 2015/04/08 23-48-5-108   True    Easy Ship   \n",
       "3                                    No especificado  False    Easy Ship   \n",
       "4                                    No especificado  False    Easy Ship   \n",
       "\n",
       "  monto total Precio Promedio Fulfilment-encoded  \n",
       "0         0.0             inf                1.0  \n",
       "1       406.0           406.0                1.0  \n",
       "2       329.0           329.0                0.0  \n",
       "3         0.0             inf                1.0  \n",
       "4       574.0           574.0                0.0  \n",
       "\n",
       "[5 rows x 25 columns]"
      ]
     },
     "execution_count": 30,
     "metadata": {},
     "output_type": "execute_result"
    }
   ],
   "source": [
    "# Agrego una  columna identificada como \"monto total\"\n",
    "df['monto total'] = df['Qty'] * df['Amount']\n",
    "\n",
    "# Agregar otra columna identificada columna \"Precio Promedio\"\n",
    "df['Precio Promedio'] = df['Amount'] / df['Qty']\n",
    "\n",
    "df.head()"
   ]
  },
  {
   "cell_type": "code",
   "execution_count": 4,
   "metadata": {},
   "outputs": [
    {
     "name": "stdout",
     "output_type": "stream",
     "text": [
      "<class 'pandas.core.frame.DataFrame'>\n",
      "RangeIndex: 128851 entries, 0 to 128850\n",
      "Data columns (total 24 columns):\n",
      " #   Column              Non-Null Count   Dtype  \n",
      "---  ------              --------------   -----  \n",
      " 0   index               128851 non-null  int64  \n",
      " 1   Order ID            128851 non-null  object \n",
      " 2   Date                128851 non-null  object \n",
      " 3   Status              128851 non-null  object \n",
      " 4   Fulfilment          128851 non-null  object \n",
      " 5   ship-service-level  128851 non-null  object \n",
      " 6   Style               128851 non-null  object \n",
      " 7   SKU                 128851 non-null  object \n",
      " 8   Category            128851 non-null  object \n",
      " 9   Size                128851 non-null  object \n",
      " 10  ASIN                128851 non-null  object \n",
      " 11  Courier Status      121979 non-null  object \n",
      " 12  Qty                 128851 non-null  int64  \n",
      " 13  currency            121180 non-null  object \n",
      " 14  Amount              121180 non-null  float64\n",
      " 15  ship-city           128818 non-null  object \n",
      " 16  ship-state          128811 non-null  object \n",
      " 17  ship-postal-code    128811 non-null  float64\n",
      " 18  ship-country        128811 non-null  object \n",
      " 19  promotion-ids       79815 non-null   object \n",
      " 20  B2B                 128844 non-null  object \n",
      " 21  fulfilled-by        39276 non-null   object \n",
      " 22  monto total         121180 non-null  float64\n",
      " 23  Precio Promedio     121180 non-null  float64\n",
      "dtypes: float64(4), int64(2), object(18)\n",
      "memory usage: 23.6+ MB\n"
     ]
    }
   ],
   "source": [
    "df.info()"
   ]
  },
  {
   "cell_type": "code",
   "execution_count": 5,
   "metadata": {},
   "outputs": [
    {
     "name": "stderr",
     "output_type": "stream",
     "text": [
      "/var/folders/kg/bj4nwrzj2k71bwdyw9wl8ll40000gp/T/ipykernel_2264/3041476265.py:6: FutureWarning: Setting an item of incompatible dtype is deprecated and will raise in a future error of pandas. Value 'No especificado' has dtype incompatible with float64, please explicitly cast to a compatible dtype first.\n",
      "  df['ship-postal-code'].fillna('No especificado', inplace=True)\n"
     ]
    }
   ],
   "source": [
    "#Realizamos limpieza de los datos:\n",
    "\n",
    "df['Courier Status'].fillna('No especificado', inplace=True)\n",
    "df['ship-city'].fillna('No especificado', inplace=True)\n",
    "df['ship-state'].fillna('No especificado', inplace=True)\n",
    "df['ship-postal-code'].fillna('No especificado', inplace=True)\n",
    "df['ship-country'].fillna('No especificado', inplace=True)\n",
    "df['promotion-ids'].fillna('No especificado', inplace=True)\n",
    "\n",
    "df.dropna(subset=['currency', 'Amount', 'monto total', 'Precio Promedio', 'Qty'], inplace=True)\n",
    "\n",
    "valores_faltantes_columnas = [\"B2B\", \"fulfilled-by\"]\n",
    "datos_faltantes = df[valores_faltantes_columnas].isnull()\n",
    "\n",
    "imputer = SimpleImputer(strategy='most_frequent')\n",
    "\n",
    "df[valores_faltantes_columnas] = imputer.fit_transform(df[valores_faltantes_columnas])"
   ]
  },
  {
   "cell_type": "code",
   "execution_count": 6,
   "metadata": {},
   "outputs": [
    {
     "name": "stdout",
     "output_type": "stream",
     "text": [
      "<class 'pandas.core.frame.DataFrame'>\n",
      "Index: 121180 entries, 0 to 128850\n",
      "Data columns (total 24 columns):\n",
      " #   Column              Non-Null Count   Dtype  \n",
      "---  ------              --------------   -----  \n",
      " 0   index               121180 non-null  int64  \n",
      " 1   Order ID            121180 non-null  object \n",
      " 2   Date                121180 non-null  object \n",
      " 3   Status              121180 non-null  object \n",
      " 4   Fulfilment          121180 non-null  object \n",
      " 5   ship-service-level  121180 non-null  object \n",
      " 6   Style               121180 non-null  object \n",
      " 7   SKU                 121180 non-null  object \n",
      " 8   Category            121180 non-null  object \n",
      " 9   Size                121180 non-null  object \n",
      " 10  ASIN                121180 non-null  object \n",
      " 11  Courier Status      121180 non-null  object \n",
      " 12  Qty                 121180 non-null  int64  \n",
      " 13  currency            121180 non-null  object \n",
      " 14  Amount              121180 non-null  float64\n",
      " 15  ship-city           121180 non-null  object \n",
      " 16  ship-state          121180 non-null  object \n",
      " 17  ship-postal-code    121180 non-null  object \n",
      " 18  ship-country        121180 non-null  object \n",
      " 19  promotion-ids       121180 non-null  object \n",
      " 20  B2B                 121180 non-null  object \n",
      " 21  fulfilled-by        121180 non-null  object \n",
      " 22  monto total         121180 non-null  float64\n",
      " 23  Precio Promedio     121180 non-null  float64\n",
      "dtypes: float64(3), int64(2), object(19)\n",
      "memory usage: 23.1+ MB\n"
     ]
    }
   ],
   "source": [
    "df.info()"
   ]
  },
  {
   "cell_type": "code",
   "execution_count": 7,
   "metadata": {},
   "outputs": [],
   "source": [
    "# Elimino los guiones de la columna 'Order ID'\n",
    "df['Order ID'] = df['Order ID'].str.replace('-', '')\n",
    "\n",
    "# Convierto la columna a tipo numérico\n",
    "df['Order ID'] = pd.to_numeric(df['Order ID'], errors='coerce')"
   ]
  },
  {
   "cell_type": "code",
   "execution_count": 8,
   "metadata": {},
   "outputs": [
    {
     "name": "stderr",
     "output_type": "stream",
     "text": [
      "/var/folders/kg/bj4nwrzj2k71bwdyw9wl8ll40000gp/T/ipykernel_2264/2547805998.py:2: UserWarning: Could not infer format, so each element will be parsed individually, falling back to `dateutil`. To ensure parsing is consistent and as-expected, please specify a format.\n",
      "  df['Date']=pd.to_datetime(df['Date'])\n"
     ]
    }
   ],
   "source": [
    "#convierto el campo date en formato fecha.\n",
    "df['Date']=pd.to_datetime(df['Date'])"
   ]
  },
  {
   "cell_type": "code",
   "execution_count": 26,
   "metadata": {},
   "outputs": [],
   "source": [
    "# Creamos el codificador indicandole el orden de la variables\n",
    "encoder = OrdinalEncoder(categories=[[\"Amazon\", \"Merchant\"]])\n",
    "\n",
    "# Ajustamos el codificador con la variable Fulfilment y la transformamos\n",
    "encoder.fit(df[[\"Fulfilment\"]])\n",
    "df[\"Fulfilment-encoded\"] = encoder.transform(df[[\"Fulfilment\"]])"
   ]
  },
  {
   "cell_type": "code",
   "execution_count": 31,
   "metadata": {},
   "outputs": [],
   "source": [
    "# Creamos el codificador indicandole el orden de la variables\n",
    "encoder = OrdinalEncoder(categories=[[\"Set\", \"kurta\", \"Western Dress\", \"Top\", \"Ethnic Dress\", \"Blouse\", \"Bottom\", \"Saree\", \"Dupatta\"]])\n",
    "\n",
    "# Ajustamos el codificador con la variable Fulfilment y la transformamos\n",
    "encoder.fit(df[[\"Category\"]])\n",
    "df[\"Category-encoded\"] = encoder.transform(df[[\"Category\"]])"
   ]
  },
  {
   "cell_type": "code",
   "execution_count": 32,
   "metadata": {},
   "outputs": [
    {
     "name": "stdout",
     "output_type": "stream",
     "text": [
      "<class 'pandas.core.frame.DataFrame'>\n",
      "Index: 121180 entries, 0 to 128850\n",
      "Data columns (total 26 columns):\n",
      " #   Column              Non-Null Count   Dtype         \n",
      "---  ------              --------------   -----         \n",
      " 0   index               121180 non-null  int64         \n",
      " 1   Order ID            121180 non-null  int64         \n",
      " 2   Date                121180 non-null  datetime64[ns]\n",
      " 3   Status              121180 non-null  object        \n",
      " 4   Fulfilment          121180 non-null  object        \n",
      " 5   ship-service-level  121180 non-null  object        \n",
      " 6   Style               121180 non-null  object        \n",
      " 7   SKU                 121180 non-null  object        \n",
      " 8   Category            121180 non-null  object        \n",
      " 9   Size                121180 non-null  object        \n",
      " 10  ASIN                121180 non-null  object        \n",
      " 11  Courier Status      121180 non-null  object        \n",
      " 12  Qty                 121180 non-null  int64         \n",
      " 13  currency            121180 non-null  object        \n",
      " 14  Amount              121180 non-null  float64       \n",
      " 15  ship-city           121180 non-null  object        \n",
      " 16  ship-state          121180 non-null  object        \n",
      " 17  ship-postal-code    121180 non-null  object        \n",
      " 18  ship-country        121180 non-null  object        \n",
      " 19  promotion-ids       121180 non-null  object        \n",
      " 20  B2B                 121180 non-null  object        \n",
      " 21  fulfilled-by        121180 non-null  object        \n",
      " 22  monto total         121180 non-null  float64       \n",
      " 23  Precio Promedio     121180 non-null  float64       \n",
      " 24  Fulfilment-encoded  121180 non-null  float64       \n",
      " 25  Category-encoded    121180 non-null  float64       \n",
      "dtypes: datetime64[ns](1), float64(5), int64(3), object(17)\n",
      "memory usage: 25.0+ MB\n"
     ]
    }
   ],
   "source": [
    "df.info()"
   ]
  },
  {
   "cell_type": "code",
   "execution_count": 33,
   "metadata": {},
   "outputs": [],
   "source": [
    "numeric_columns = df.select_dtypes(include=['float64', 'int64']).columns\n",
    "correlation_matrix = df[numeric_columns].corr()"
   ]
  },
  {
   "cell_type": "code",
   "execution_count": 34,
   "metadata": {},
   "outputs": [
    {
     "data": {
      "image/png": "[encoded data removed]",
      "text/plain": [
       "<Figure size 640x480 with 2 Axes>"
      ]
     },
     "metadata": {},
     "output_type": "display_data"
    }
   ],
   "source": [
    "import seaborn as sns\n",
    "import matplotlib.pyplot as plt\n",
    "\n",
    "sns.heatmap(correlation_matrix, annot=True, cmap='coolwarm', fmt=\".2f\")\n",
    "plt.show()"
   ]
  },
  {
   "cell_type": "code",
   "execution_count": 11,
   "metadata": {},
   "outputs": [],
   "source": [
    "target_correlation = correlation_matrix['monto total'].sort_values(ascending=False)"
   ]
  },
  {
   "cell_type": "code",
   "execution_count": 20,
   "metadata": {},
   "outputs": [],
   "source": [
    "X = df[['Qty']]  \n",
    "y = df['monto total']"
   ]
  },
  {
   "cell_type": "code",
   "execution_count": 21,
   "metadata": {},
   "outputs": [],
   "source": [
    "from sklearn.model_selection import train_test_split\n",
    "\n",
    "X_train, X_test, y_train, y_test = train_test_split(X, y, test_size=0.2, random_state=42)"
   ]
  },
  {
   "cell_type": "code",
   "execution_count": 22,
   "metadata": {},
   "outputs": [
    {
     "data": {
      "text/html": [
       "<style>#sk-container-id-2 {color: black;}#sk-container-id-2 pre{padding: 0;}#sk-container-id-2 div.sk-toggleable {background-color: white;}#sk-container-id-2 label.sk-toggleable__label {cursor: pointer;display: block;width: 100%;margin-bottom: 0;padding: 0.3em;box-sizing: border-box;text-align: center;}#sk-container-id-2 label.sk-toggleable__label-arrow:before {content: \"▸\";float: left;margin-right: 0.25em;color: #696969;}#sk-container-id-2 label.sk-toggleable__label-arrow:hover:before {color: black;}#sk-container-id-2 div.sk-estimator:hover label.sk-toggleable__label-arrow:before {color: black;}#sk-container-id-2 div.sk-toggleable__content {max-height: 0;max-width: 0;overflow: hidden;text-align: left;background-color: #f0f8ff;}#sk-container-id-2 div.sk-toggleable__content pre {margin: 0.2em;color: black;border-radius: 0.25em;background-color: #f0f8ff;}#sk-container-id-2 input.sk-toggleable__control:checked~div.sk-toggleable__content {max-height: 200px;max-width: 100%;overflow: auto;}#sk-container-id-2 input.sk-toggleable__control:checked~label.sk-toggleable__label-arrow:before {content: \"▾\";}#sk-container-id-2 div.sk-estimator input.sk-toggleable__control:checked~label.sk-toggleable__label {background-color: #d4ebff;}#sk-container-id-2 div.sk-label input.sk-toggleable__control:checked~label.sk-toggleable__label {background-color: #d4ebff;}#sk-container-id-2 input.sk-hidden--visually {border: 0;clip: rect(1px 1px 1px 1px);clip: rect(1px, 1px, 1px, 1px);height: 1px;margin: -1px;overflow: hidden;padding: 0;position: absolute;width: 1px;}#sk-container-id-2 div.sk-estimator {font-family: monospace;background-color: #f0f8ff;border: 1px dotted black;border-radius: 0.25em;box-sizing: border-box;margin-bottom: 0.5em;}#sk-container-id-2 div.sk-estimator:hover {background-color: #d4ebff;}#sk-container-id-2 div.sk-parallel-item::after {content: \"\";width: 100%;border-bottom: 1px solid gray;flex-grow: 1;}#sk-container-id-2 div.sk-label:hover label.sk-toggleable__label {background-color: #d4ebff;}#sk-container-id-2 div.sk-serial::before {content: \"\";position: absolute;border-left: 1px solid gray;box-sizing: border-box;top: 0;bottom: 0;left: 50%;z-index: 0;}#sk-container-id-2 div.sk-serial {display: flex;flex-direction: column;align-items: center;background-color: white;padding-right: 0.2em;padding-left: 0.2em;position: relative;}#sk-container-id-2 div.sk-item {position: relative;z-index: 1;}#sk-container-id-2 div.sk-parallel {display: flex;align-items: stretch;justify-content: center;background-color: white;position: relative;}#sk-container-id-2 div.sk-item::before, #sk-container-id-2 div.sk-parallel-item::before {content: \"\";position: absolute;border-left: 1px solid gray;box-sizing: border-box;top: 0;bottom: 0;left: 50%;z-index: -1;}#sk-container-id-2 div.sk-parallel-item {display: flex;flex-direction: column;z-index: 1;position: relative;background-color: white;}#sk-container-id-2 div.sk-parallel-item:first-child::after {align-self: flex-end;width: 50%;}#sk-container-id-2 div.sk-parallel-item:last-child::after {align-self: flex-start;width: 50%;}#sk-container-id-2 div.sk-parallel-item:only-child::after {width: 0;}#sk-container-id-2 div.sk-dashed-wrapped {border: 1px dashed gray;margin: 0 0.4em 0.5em 0.4em;box-sizing: border-box;padding-bottom: 0.4em;background-color: white;}#sk-container-id-2 div.sk-label label {font-family: monospace;font-weight: bold;display: inline-block;line-height: 1.2em;}#sk-container-id-2 div.sk-label-container {text-align: center;}#sk-container-id-2 div.sk-container {/* jupyter's `normalize.less` sets `[hidden] { display: none; }` but bootstrap.min.css set `[hidden] { display: none !important; }` so we also need the `!important` here to be able to override the default hidden behavior on the sphinx rendered scikit-learn.org. See: https://github.com/scikit-learn/scikit-learn/issues/21755 */display: inline-block !important;position: relative;}#sk-container-id-2 div.sk-text-repr-fallback {display: none;}</style><div id=\"sk-container-id-2\" class=\"sk-top-container\"><div class=\"sk-text-repr-fallback\"><pre>LinearRegression()</pre><b>In a Jupyter environment, please rerun this cell to show the HTML representation or trust the notebook. <br />On GitHub, the HTML representation is unable to render, please try loading this page with nbviewer.org.</b></div><div class=\"sk-container\" hidden><div class=\"sk-item\"><div class=\"sk-estimator sk-toggleable\"><input class=\"sk-toggleable__control sk-hidden--visually\" id=\"sk-estimator-id-2\" type=\"checkbox\" checked><label for=\"sk-estimator-id-2\" class=\"sk-toggleable__label sk-toggleable__label-arrow\">LinearRegression</label><div class=\"sk-toggleable__content\"><pre>LinearRegression()</pre></div></div></div></div></div>"
      ],
      "text/plain": [
       "LinearRegression()"
      ]
     },
     "execution_count": 22,
     "metadata": {},
     "output_type": "execute_result"
    }
   ],
   "source": [
    "from sklearn.linear_model import LinearRegression\n",
    "\n",
    "model = LinearRegression()\n",
    "model.fit(X_train, y_train)"
   ]
  },
  {
   "cell_type": "code",
   "execution_count": 23,
   "metadata": {},
   "outputs": [
    {
     "name": "stdout",
     "output_type": "stream",
     "text": [
      "R²: 0.2285406396408367\n",
      "MSE: 83436.10596588481\n"
     ]
    }
   ],
   "source": [
    "from sklearn.metrics import r2_score, mean_squared_error\n",
    "\n",
    "y_pred = model.predict(X_test)\n",
    "\n",
    "r2 = r2_score(y_test, y_pred)\n",
    "mse = mean_squared_error(y_test, y_pred)\n",
    "\n",
    "print(f'R²: {r2}')\n",
    "print(f'MSE: {mse}')"
   ]
  }
 ],
 "metadata": {
  "kernelspec": {
   "display_name": "Python 3",
   "language": "python",
   "name": "python3"
  },
  "language_info": {
   "codemirror_mode": {
    "name": "ipython",
    "version": 3
   },
   "file_extension": ".py",
   "mimetype": "text/x-python",
   "name": "python",
   "nbconvert_exporter": "python",
   "pygments_lexer": "ipython3",
   "version": "3.12.0"
  }
 },
 "nbformat": 4,
 "nbformat_minor": 2
}
